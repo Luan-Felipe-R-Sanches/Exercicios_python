{
  "nbformat": 4,
  "nbformat_minor": 0,
  "metadata": {
    "colab": {
      "provenance": [],
      "authorship_tag": "ABX9TyOxtGVRoMVlDw5+jwa8Qiay",
      "include_colab_link": true
    },
    "kernelspec": {
      "name": "python3",
      "display_name": "Python 3"
    },
    "language_info": {
      "name": "python"
    }
  },
  "cells": [
    {
      "cell_type": "markdown",
      "metadata": {
        "id": "view-in-github",
        "colab_type": "text"
      },
      "source": [
        "<a href=\"https://colab.research.google.com/github/Luan-Felipe-R-Sanches/Exercicios_python/blob/main/1_fundamentos.ipynb\" target=\"_parent\"><img src=\"https://colab.research.google.com/assets/colab-badge.svg\" alt=\"Open In Colab\"/></a>"
      ]
    },
    {
      "cell_type": "code",
      "execution_count": null,
      "metadata": {
        "id": "LOqGV3a-nK2-"
      },
      "outputs": [],
      "source": [
        "# Comentário"
      ]
    },
    {
      "cell_type": "code",
      "source": [
        "'''\n",
        "Comentario\n",
        "Comentario\n",
        "'''"
      ],
      "metadata": {
        "id": "JfXUHCHvneFf"
      },
      "execution_count": null,
      "outputs": []
    },
    {
      "cell_type": "code",
      "source": [
        "print(\"Olá mundo\")\n",
        "print(10)\n",
        "print(20.5)"
      ],
      "metadata": {
        "colab": {
          "base_uri": "https://localhost:8080/"
        },
        "id": "VJXMnBU7njdt",
        "outputId": "451c82fe-cb80-4fc6-f017-a1f7c7a43627"
      },
      "execution_count": null,
      "outputs": [
        {
          "output_type": "stream",
          "name": "stdout",
          "text": [
            "Olá mundo\n",
            "10\n",
            "20.5\n"
          ]
        }
      ]
    },
    {
      "cell_type": "code",
      "source": [
        "print(\"Maça\", 20, 30.45)"
      ],
      "metadata": {
        "colab": {
          "base_uri": "https://localhost:8080/"
        },
        "id": "LHsNf-mNny7B",
        "outputId": "4d9f8c9d-ca39-437d-a70f-81cfcec18336"
      },
      "execution_count": null,
      "outputs": [
        {
          "output_type": "stream",
          "name": "stdout",
          "text": [
            "Maça 20 30.45\n"
          ]
        }
      ]
    },
    {
      "cell_type": "code",
      "source": [
        "print(\"Maça\", \"Pera\",\"Uva\", sep=' - ')"
      ],
      "metadata": {
        "colab": {
          "base_uri": "https://localhost:8080/"
        },
        "id": "EWe9dytWn5i0",
        "outputId": "007e3cec-28e8-4781-fb76-e50a5aeb5c32"
      },
      "execution_count": null,
      "outputs": [
        {
          "output_type": "stream",
          "name": "stdout",
          "text": [
            "Maça - Pera - Uva\n"
          ]
        }
      ]
    },
    {
      "cell_type": "code",
      "source": [
        "print(\"Maça\", \"Pera\", end = ' Fim ', sep=' ')"
      ],
      "metadata": {
        "colab": {
          "base_uri": "https://localhost:8080/"
        },
        "id": "cY2RYxrYoH58",
        "outputId": "982258fd-f686-42e4-b8fe-c9c76c4e4597"
      },
      "execution_count": null,
      "outputs": [
        {
          "output_type": "stream",
          "name": "stdout",
          "text": [
            "Maça Pera Fim "
          ]
        }
      ]
    },
    {
      "cell_type": "code",
      "source": [
        "print(\"Este é um texto longo, \\n eu quero quebrar a linha\")"
      ],
      "metadata": {
        "colab": {
          "base_uri": "https://localhost:8080/"
        },
        "id": "uV8WAg8LoVS6",
        "outputId": "15952e3b-ec58-4361-86c1-b4e91390cc27"
      },
      "execution_count": null,
      "outputs": [
        {
          "output_type": "stream",
          "name": "stdout",
          "text": [
            "Este é um texto longo, \n",
            " eu quero quebrar a linha\n"
          ]
        }
      ]
    },
    {
      "cell_type": "code",
      "source": [
        "print(\"Maça\", \"Pera\", sep='\\n')"
      ],
      "metadata": {
        "colab": {
          "base_uri": "https://localhost:8080/"
        },
        "id": "ipas7OhOodeK",
        "outputId": "ee1f520e-c6cb-41e5-f129-050e033611d2"
      },
      "execution_count": null,
      "outputs": [
        {
          "output_type": "stream",
          "name": "stdout",
          "text": [
            "Maça\n",
            "Pera\n"
          ]
        }
      ]
    },
    {
      "cell_type": "code",
      "source": [
        "print(\"A pontuação total de de %s foi %s pontos\" % (\"Luan\",\"10\"))"
      ],
      "metadata": {
        "colab": {
          "base_uri": "https://localhost:8080/"
        },
        "id": "5VCKgcdrolsO",
        "outputId": "c530e794-ca50-414f-9d25-19fea2759baa"
      },
      "execution_count": null,
      "outputs": [
        {
          "output_type": "stream",
          "name": "stdout",
          "text": [
            "A pontuação total de de Luan foi 10 pontos\n"
          ]
        }
      ]
    },
    {
      "cell_type": "code",
      "source": [
        "print(\"A pontuação total de {} foi {} pontos\".format(\"Luan\", \"10\"))"
      ],
      "metadata": {
        "colab": {
          "base_uri": "https://localhost:8080/"
        },
        "id": "gXjn2tiAo0Cd",
        "outputId": "bda5b05e-ed47-424f-b7f4-c64b426a225c"
      },
      "execution_count": null,
      "outputs": [
        {
          "output_type": "stream",
          "name": "stdout",
          "text": [
            "A pontuação total de Luan foi 10 pontos\n"
          ]
        }
      ]
    },
    {
      "cell_type": "code",
      "source": [
        "print(\"A pontuação total de\" + \" Luan\" + \" foi\" + \" 10\" + \" pontos\")"
      ],
      "metadata": {
        "colab": {
          "base_uri": "https://localhost:8080/"
        },
        "id": "2C3xpSQBpRJl",
        "outputId": "fcddaa12-d68e-4cdb-d93d-f88469f36b87"
      },
      "execution_count": null,
      "outputs": [
        {
          "output_type": "stream",
          "name": "stdout",
          "text": [
            "A pontuação total de Luan foi 10 pontos\n"
          ]
        }
      ]
    },
    {
      "cell_type": "code",
      "source": [
        "# Atividades\n",
        "'''\n",
        "1 - Realize o print do seu nome completo, sua idade e sua altura utilizando\n",
        "um print para cada valor.\n",
        "2 - Realize o print do seu nome completo, sua idade e sua altura utilizando\n",
        "apenas um print para todos valores.\n",
        "3 - Realize o print de 3 números de sua escolha em um mesmo print,\n",
        "mas separados pelo caractere '-'.\n",
        "'''\n",
        "\n",
        "print(\"Luan\")\n",
        "print(29)\n",
        "print(1.80)\n",
        "\n",
        "print(\"Luan\", 29, 1.80)\n",
        "\n",
        "print(30, 50, 88, sep='-')\n"
      ],
      "metadata": {
        "colab": {
          "base_uri": "https://localhost:8080/"
        },
        "id": "mjsdt6_sqCOm",
        "outputId": "5096824f-3003-49ab-e9d2-31adde56de92"
      },
      "execution_count": null,
      "outputs": [
        {
          "output_type": "stream",
          "name": "stdout",
          "text": [
            "Luan\n",
            "29\n",
            "1.8\n",
            "Luan 29 1.8\n",
            "30-50-88\n"
          ]
        }
      ]
    },
    {
      "cell_type": "markdown",
      "source": [
        "# **Variáveis**"
      ],
      "metadata": {
        "id": "qxNfoO9Tswfc"
      }
    },
    {
      "cell_type": "code",
      "source": [
        "_numero = 1\n",
        "Numero = 2\n",
        "numero = 3\n",
        "numemro1234 = 4\n",
        "print(_numero, Numero, numero, numemro1234)"
      ],
      "metadata": {
        "id": "KyEl9J4Vs7AL",
        "outputId": "caff18b8-c91f-44cc-ea53-d1c889207ad1",
        "colab": {
          "base_uri": "https://localhost:8080/"
        }
      },
      "execution_count": null,
      "outputs": [
        {
          "output_type": "stream",
          "name": "stdout",
          "text": [
            "1 2 3 4\n"
          ]
        }
      ]
    },
    {
      "cell_type": "code",
      "source": [
        "inteiro = 10\n",
        "print(inteiro)"
      ],
      "metadata": {
        "id": "miwtmjZVuCLQ",
        "outputId": "bf52fe75-d45e-412c-9863-df9c76ab72c6",
        "colab": {
          "base_uri": "https://localhost:8080/"
        }
      },
      "execution_count": null,
      "outputs": [
        {
          "output_type": "stream",
          "name": "stdout",
          "text": [
            "10\n"
          ]
        }
      ]
    },
    {
      "cell_type": "code",
      "source": [
        "decimal = 1.53\n",
        "print(decimal)"
      ],
      "metadata": {
        "id": "kFHfT5RfuJnI",
        "outputId": "248ba2be-cba2-4b87-eced-6133eb6fd3f0",
        "colab": {
          "base_uri": "https://localhost:8080/"
        }
      },
      "execution_count": null,
      "outputs": [
        {
          "output_type": "stream",
          "name": "stdout",
          "text": [
            "1.53\n"
          ]
        }
      ]
    },
    {
      "cell_type": "code",
      "source": [
        "texto = \"Texto\"\n",
        "print(texto)"
      ],
      "metadata": {
        "id": "sCfYQU9XuTEE",
        "outputId": "7c061052-c4b7-4592-d3b4-531a505da96e",
        "colab": {
          "base_uri": "https://localhost:8080/"
        }
      },
      "execution_count": null,
      "outputs": [
        {
          "output_type": "stream",
          "name": "stdout",
          "text": [
            "Texto\n"
          ]
        }
      ]
    },
    {
      "cell_type": "code",
      "source": [
        "var = True\n",
        "print(var)\n",
        "var = False\n",
        "print(var)"
      ],
      "metadata": {
        "id": "XIygN30CuZOt",
        "outputId": "86058ba5-6d6a-41ce-eedd-420b334946c0",
        "colab": {
          "base_uri": "https://localhost:8080/"
        }
      },
      "execution_count": null,
      "outputs": [
        {
          "output_type": "stream",
          "name": "stdout",
          "text": [
            "True\n",
            "False\n"
          ]
        }
      ]
    },
    {
      "cell_type": "code",
      "source": [
        "var1 = 10\n",
        "var2 = var1\n",
        "print(var2)"
      ],
      "metadata": {
        "id": "SSBZ7sW7ujmk",
        "outputId": "cc5ad090-d649-41eb-cfe3-255cbeb0d0c4",
        "colab": {
          "base_uri": "https://localhost:8080/"
        }
      },
      "execution_count": null,
      "outputs": [
        {
          "output_type": "stream",
          "name": "stdout",
          "text": [
            "10\n"
          ]
        }
      ]
    },
    {
      "cell_type": "code",
      "source": [
        "var = None\n",
        "print(var)\n",
        "var = 1\n",
        "print(var)\n",
        "var = \"Texto\"\n",
        "print(var)"
      ],
      "metadata": {
        "id": "rK8h5enCupDq",
        "outputId": "d3659ff1-7b12-452f-81cb-7ec18365288b",
        "colab": {
          "base_uri": "https://localhost:8080/"
        }
      },
      "execution_count": null,
      "outputs": [
        {
          "output_type": "stream",
          "name": "stdout",
          "text": [
            "None\n",
            "1\n",
            "Texto\n"
          ]
        }
      ]
    },
    {
      "cell_type": "code",
      "source": [
        "# padrão camel case\n",
        "saldoBancario = 100\n",
        "\n",
        "# padrão pascal case\n",
        "SaldoBancario = 100\n",
        "\n",
        "# padrão snake case\n",
        "saldo_bancario = 100"
      ],
      "metadata": {
        "id": "E-OvSkNNwcz_"
      },
      "execution_count": null,
      "outputs": []
    },
    {
      "cell_type": "markdown",
      "source": [
        "# **Formatação de Texto**"
      ],
      "metadata": {
        "id": "u4DD64ZtpR67"
      }
    },
    {
      "cell_type": "code",
      "source": [
        "'''\n",
        "%$ texto\n",
        "%d inteiro\n",
        "%f real\n",
        "'''"
      ],
      "metadata": {
        "id": "ROfbgzDapay5"
      },
      "execution_count": null,
      "outputs": []
    },
    {
      "cell_type": "code",
      "source": [
        "nome = \"Carolina\"\n",
        "texto_formatado = \"O nome dela é %s \" % (nome)\n",
        "print(texto_formatado)"
      ],
      "metadata": {
        "id": "i1hKi7yVpnDq",
        "outputId": "8c3127de-0851-4821-9f1a-1dfe74c149a1",
        "colab": {
          "base_uri": "https://localhost:8080/"
        }
      },
      "execution_count": null,
      "outputs": [
        {
          "output_type": "stream",
          "name": "stdout",
          "text": [
            "O nome dela é Carolina \n"
          ]
        }
      ]
    },
    {
      "cell_type": "code",
      "source": [
        "nome = \"Luan\"\n",
        "idade = 29\n",
        "altura = 1.80\n",
        "texto = \"Meu nome é %s, tenho %d anos e minha altura é %.2f\" % (nome, idade, altura)\n",
        "print(texto)"
      ],
      "metadata": {
        "id": "EGKTeJlkqFwt",
        "outputId": "5a99b5f4-461f-4fbc-90c0-a0649fbe5aab",
        "colab": {
          "base_uri": "https://localhost:8080/"
        }
      },
      "execution_count": null,
      "outputs": [
        {
          "output_type": "stream",
          "name": "stdout",
          "text": [
            "Meu nome é Luan, tenho 29 anos e minha altura é 1.80\n"
          ]
        }
      ]
    },
    {
      "cell_type": "code",
      "source": [
        "numero_gigante = 1.23456789\n",
        "print(\"Número gigante formatado: %.2f\" % numero_gigante)"
      ],
      "metadata": {
        "id": "dv-uarO7qeo1",
        "outputId": "98e412ff-b1de-44e9-e654-e41275581270",
        "colab": {
          "base_uri": "https://localhost:8080/"
        }
      },
      "execution_count": null,
      "outputs": [
        {
          "output_type": "stream",
          "name": "stdout",
          "text": [
            "Número gigante formatado: 1.23\n"
          ]
        }
      ]
    },
    {
      "cell_type": "code",
      "source": [
        "valor = True\n",
        "print(\"O valor é %s\" % (valor))\n",
        "print(\"O valor é %d\" % (valor))\n"
      ],
      "metadata": {
        "id": "CGOyojGpqxAc",
        "outputId": "7e02292f-3ba0-462a-cb8b-9f483feac3f6",
        "colab": {
          "base_uri": "https://localhost:8080/"
        }
      },
      "execution_count": null,
      "outputs": [
        {
          "output_type": "stream",
          "name": "stdout",
          "text": [
            "O valor é True\n",
            "O valor é 1\n"
          ]
        }
      ]
    },
    {
      "cell_type": "code",
      "source": [
        "decimal = 23.4566\n",
        "print(\"A parte inteira é %d\" % (decimal))"
      ],
      "metadata": {
        "id": "Y8uoVFaorBHx",
        "outputId": "66614a74-2042-4057-d464-6571e1e5961b",
        "colab": {
          "base_uri": "https://localhost:8080/"
        }
      },
      "execution_count": null,
      "outputs": [
        {
          "output_type": "stream",
          "name": "stdout",
          "text": [
            "A parte inteira é 23\n"
          ]
        }
      ]
    },
    {
      "cell_type": "markdown",
      "source": [
        "# **Formatação com Caracteres Especiais**"
      ],
      "metadata": {
        "id": "5EjrmYK5VDfU"
      }
    },
    {
      "cell_type": "code",
      "source": [
        "texto = \"Olá, assim se \\n\\t quebra uma linha,\\nentendeu? \"\n",
        "print(texto)"
      ],
      "metadata": {
        "id": "vYOw-FkeVHCS",
        "outputId": "c7914be3-5384-4bd4-d84c-da2c97c64e3b",
        "colab": {
          "base_uri": "https://localhost:8080/"
        }
      },
      "execution_count": 3,
      "outputs": [
        {
          "output_type": "stream",
          "name": "stdout",
          "text": [
            "Olá, assim se \n",
            "\tquebra uma linha,\n",
            "entendeu? \n"
          ]
        }
      ]
    },
    {
      "cell_type": "code",
      "source": [
        "texto = 'Deixe a \\'palavra\\' entre aspas'\n",
        "texto = \"Deixe a palavra entre aspas\""
      ],
      "metadata": {
        "id": "ZHZoGNyeVrHE"
      },
      "execution_count": 4,
      "outputs": []
    },
    {
      "cell_type": "markdown",
      "source": [
        "# **Atividades**"
      ],
      "metadata": {
        "id": "6JD_bV_PXvbS"
      }
    },
    {
      "cell_type": "code",
      "source": [
        "'''\n",
        "1 - Escreva e formate a data em que você nasceu no formato dia/mês/ano. Não\n",
        " esqueça de criar 3 variáveis para guardar o dia, mês e ano.\n",
        "\n",
        "Exemplo de saída:\n",
        "Eu nasci em 30/9/1998\n",
        "\n",
        "2 - Escreva e formate a hora e minuto atual. Não esqueça de criar duas variáveis\n",
        " para guardar a hora e minuto.\n",
        "\n",
        "Exemplo de saída:\n",
        "Agora são 22 horas e 37 minutos\n",
        "\n",
        "3 - Escreva um programa que contém o número PI, que deve ter o valor exato de\n",
        "3.14159265359. Agora formate esse número para ter apenas cinco casas decimais.\n",
        "\n",
        "Exemplo de saída:\n",
        "O PI é 3.14159\n",
        "'''"
      ],
      "metadata": {
        "id": "eTQb5KQbXx_M"
      },
      "execution_count": null,
      "outputs": []
    },
    {
      "cell_type": "code",
      "source": [
        "dia = 25\n",
        "mes = 8\n",
        "ano = 1995\n",
        "\n",
        "print(f\"{dia}/{mes}/{ano}\")"
      ],
      "metadata": {
        "id": "sssnqScMX9BB",
        "outputId": "878b9713-bfad-43d5-fff6-4ab0a37fd56f",
        "colab": {
          "base_uri": "https://localhost:8080/"
        }
      },
      "execution_count": 11,
      "outputs": [
        {
          "output_type": "stream",
          "name": "stdout",
          "text": [
            "25/8/1995\n"
          ]
        }
      ]
    },
    {
      "cell_type": "code",
      "source": [
        "horas = 12\n",
        "minutos = 36\n",
        "\n",
        "print(f\"Agora são {horas} horas e {minutos} minutos\")\n",
        "print(\"Agora são %d horas e %d minutos\" % (horas, minutos))"
      ],
      "metadata": {
        "id": "MDWrE5FGZA8l",
        "outputId": "05be83c1-3d00-4524-9796-fd3ff63f6a13",
        "colab": {
          "base_uri": "https://localhost:8080/"
        }
      },
      "execution_count": 21,
      "outputs": [
        {
          "output_type": "stream",
          "name": "stdout",
          "text": [
            "Agora são 12 e 36 minutos\n",
            "Agora são 12 horas e 36 minutos\n"
          ]
        }
      ]
    },
    {
      "cell_type": "code",
      "source": [
        "pi = 3.14159265359\n",
        "print(f\"{pi:.5f}\")\n",
        "\n",
        "pi_formatado = 'O PI é normalmente exibido com %.5f' % (pi)\n",
        "print(pi_formatado)"
      ],
      "metadata": {
        "id": "q6dZHZDLZWCf",
        "outputId": "0561c309-90d4-4899-b6cc-f098fb29577a",
        "colab": {
          "base_uri": "https://localhost:8080/"
        }
      },
      "execution_count": 22,
      "outputs": [
        {
          "output_type": "stream",
          "name": "stdout",
          "text": [
            "3.14159\n",
            "O PI é normalmente exibido com 3.14159\n"
          ]
        }
      ]
    },
    {
      "cell_type": "markdown",
      "source": [
        "# **Operadores Aritméticos**"
      ],
      "metadata": {
        "id": "t3cKRlbndYSG"
      }
    },
    {
      "cell_type": "code",
      "source": [
        "'''\n",
        "Ordem de Prioridade - Operadores\n",
        "\n",
        "1 - (exponenciação)\n",
        "\n",
        "2 - (multiplicação)\n",
        "\n",
        "3 - / (divisão)\n",
        "\n",
        "4 - % (resto da divisão ou mod)\n",
        "\n",
        "5 - // (divisão inteira)\n",
        "'''"
      ],
      "metadata": {
        "id": "tE8cQh9Idaxs"
      },
      "execution_count": null,
      "outputs": []
    },
    {
      "cell_type": "markdown",
      "source": [
        "# **Exemplos de Ordem de Prioridade**"
      ],
      "metadata": {
        "id": "-vZ1OYzHIl8k"
      }
    },
    {
      "cell_type": "code",
      "source": [
        "num1 = 10 * (2 + 1)\n",
        "print(num1)"
      ],
      "metadata": {
        "id": "ph5tsF0GInT0",
        "outputId": "fc4a5640-501f-436c-d36f-17dfd23263e9",
        "colab": {
          "base_uri": "https://localhost:8080/"
        }
      },
      "execution_count": 23,
      "outputs": [
        {
          "output_type": "stream",
          "name": "stdout",
          "text": [
            "30\n"
          ]
        }
      ]
    },
    {
      "cell_type": "code",
      "source": [
        "num1 = 3 * (3 - 9)\n",
        "print(num1)"
      ],
      "metadata": {
        "id": "g1LhcAd0Iwbg",
        "outputId": "8a2bae1d-480f-4b30-f513-32de006c3b9e",
        "colab": {
          "base_uri": "https://localhost:8080/"
        }
      },
      "execution_count": 24,
      "outputs": [
        {
          "output_type": "stream",
          "name": "stdout",
          "text": [
            "-18\n"
          ]
        }
      ]
    },
    {
      "cell_type": "markdown",
      "source": [
        "# **Atividades sobre Operações Aritméticas**"
      ],
      "metadata": {
        "id": "L8VF1fU6QZ70"
      }
    },
    {
      "cell_type": "code",
      "source": [
        "'''\n",
        "1 - Crie um programa que possui duas variáveis, uma recebe o ano em que\n",
        "estamos e a outra o ano em que você nasceu. Em seguida subtraia ambas\n",
        "para receber uma estimativa de quantos anos você tem. Mostre esse valor\n",
        "na saída do programa.\n",
        "\n",
        "2 - Crie um programa que faz a média aritmética entre três números.\n",
        "Estes números devem ser salvos em uma variável. Mostre esse valor na\n",
        "saída do programa.\n",
        "\n",
        "3 - Crie um programa que calcule o IMC (índice de massa corporal).\n",
        "O IMC é dado pelo peso em KG divido pela altura em metros elevado\n",
        "ao quadrado. Salvar esses valores em uma variável. Mostre esse valor na saída do programa.\n",
        "\n",
        "4 (Desafio) - Você tem um determinado números de ovos de páscoa para dividir\n",
        "entre um determinado número de pessoas (duas variáveis iniciais). Determine\n",
        "quantos ovos ficarão por pessoa e quantos ovos sobrarão pois não puderam ser\n",
        "divido igualmente. Lembre o número de ovos por pessoa é um número inteiro'''"
      ],
      "metadata": {
        "id": "VSozSNtuI8OI"
      },
      "execution_count": null,
      "outputs": []
    },
    {
      "cell_type": "code",
      "source": [
        "ano_atual = 2025\n",
        "ano_nascimento = 1995\n",
        "\n",
        "print(ano_atual - ano_nascimento)"
      ],
      "metadata": {
        "id": "Q7wN_1fVMe0d",
        "outputId": "33e52449-a211-48f0-fde8-6200f5709f7f",
        "colab": {
          "base_uri": "https://localhost:8080/"
        }
      },
      "execution_count": 25,
      "outputs": [
        {
          "output_type": "stream",
          "name": "stdout",
          "text": [
            "30\n"
          ]
        }
      ]
    },
    {
      "cell_type": "code",
      "source": [
        "nota_1 = 7.5\n",
        "nota_2 = 9.5\n",
        "nota_3 = 6.8\n",
        "\n",
        "media = (nota_1 + nota_2 + nota_3) / 3\n",
        "print(media)\n"
      ],
      "metadata": {
        "id": "l7VK1wWcNNLv",
        "outputId": "f1f58943-61e2-4b33-b299-4c94216a7749",
        "colab": {
          "base_uri": "https://localhost:8080/"
        }
      },
      "execution_count": 27,
      "outputs": [
        {
          "output_type": "stream",
          "name": "stdout",
          "text": [
            "7.933333333333334\n"
          ]
        }
      ]
    },
    {
      "cell_type": "code",
      "source": [
        "peso = 99\n",
        "altura = 1.80\n",
        "imc = peso / (altura ** 2)\n",
        "print(imc)"
      ],
      "metadata": {
        "id": "Ih3Dw7SuOHD4",
        "outputId": "eb1f45bf-43b4-456e-a6b6-72d0ba24f904",
        "colab": {
          "base_uri": "https://localhost:8080/"
        }
      },
      "execution_count": 28,
      "outputs": [
        {
          "output_type": "stream",
          "name": "stdout",
          "text": [
            "30.555555555555554\n"
          ]
        }
      ]
    },
    {
      "cell_type": "code",
      "source": [
        "ovos = 4\n",
        "pessoas = 6\n",
        "\n",
        "ovos_por_pessoa = ovos // pessoas\n",
        "ovos_sobra = ovos % pessoas\n",
        "\n",
        "print(ovos_por_pessoa)\n",
        "print(ovos_sobra)"
      ],
      "metadata": {
        "id": "cUi--qq0OpHZ",
        "outputId": "f495a0be-4728-47fd-85a8-72ffc99bbeed",
        "colab": {
          "base_uri": "https://localhost:8080/"
        }
      },
      "execution_count": 30,
      "outputs": [
        {
          "output_type": "stream",
          "name": "stdout",
          "text": [
            "0\n",
            "4\n"
          ]
        }
      ]
    }
  ]
}