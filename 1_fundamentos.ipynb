{
  "nbformat": 4,
  "nbformat_minor": 0,
  "metadata": {
    "colab": {
      "provenance": [],
      "authorship_tag": "ABX9TyP3pjPjkpVt44H3tlYvWDen",
      "include_colab_link": true
    },
    "kernelspec": {
      "name": "python3",
      "display_name": "Python 3"
    },
    "language_info": {
      "name": "python"
    }
  },
  "cells": [
    {
      "cell_type": "markdown",
      "metadata": {
        "id": "view-in-github",
        "colab_type": "text"
      },
      "source": [
        "<a href=\"https://colab.research.google.com/github/Luan-Felipe-R-Sanches/Exercicios_python/blob/main/1_fundamentos.ipynb\" target=\"_parent\"><img src=\"https://colab.research.google.com/assets/colab-badge.svg\" alt=\"Open In Colab\"/></a>"
      ]
    },
    {
      "cell_type": "code",
      "execution_count": null,
      "metadata": {
        "id": "LOqGV3a-nK2-"
      },
      "outputs": [],
      "source": [
        "# Comentário"
      ]
    },
    {
      "cell_type": "code",
      "source": [
        "'''\n",
        "Comentario\n",
        "Comentario\n",
        "'''"
      ],
      "metadata": {
        "id": "JfXUHCHvneFf"
      },
      "execution_count": null,
      "outputs": []
    },
    {
      "cell_type": "code",
      "source": [
        "print(\"Olá mundo\")\n",
        "print(10)\n",
        "print(20.5)"
      ],
      "metadata": {
        "colab": {
          "base_uri": "https://localhost:8080/"
        },
        "id": "VJXMnBU7njdt",
        "outputId": "451c82fe-cb80-4fc6-f017-a1f7c7a43627"
      },
      "execution_count": null,
      "outputs": [
        {
          "output_type": "stream",
          "name": "stdout",
          "text": [
            "Olá mundo\n",
            "10\n",
            "20.5\n"
          ]
        }
      ]
    },
    {
      "cell_type": "code",
      "source": [
        "print(\"Maça\", 20, 30.45)"
      ],
      "metadata": {
        "colab": {
          "base_uri": "https://localhost:8080/"
        },
        "id": "LHsNf-mNny7B",
        "outputId": "4d9f8c9d-ca39-437d-a70f-81cfcec18336"
      },
      "execution_count": null,
      "outputs": [
        {
          "output_type": "stream",
          "name": "stdout",
          "text": [
            "Maça 20 30.45\n"
          ]
        }
      ]
    },
    {
      "cell_type": "code",
      "source": [
        "print(\"Maça\", \"Pera\",\"Uva\", sep=' - ')"
      ],
      "metadata": {
        "colab": {
          "base_uri": "https://localhost:8080/"
        },
        "id": "EWe9dytWn5i0",
        "outputId": "007e3cec-28e8-4781-fb76-e50a5aeb5c32"
      },
      "execution_count": null,
      "outputs": [
        {
          "output_type": "stream",
          "name": "stdout",
          "text": [
            "Maça - Pera - Uva\n"
          ]
        }
      ]
    },
    {
      "cell_type": "code",
      "source": [
        "print(\"Maça\", \"Pera\", end = ' Fim ', sep=' ')"
      ],
      "metadata": {
        "colab": {
          "base_uri": "https://localhost:8080/"
        },
        "id": "cY2RYxrYoH58",
        "outputId": "982258fd-f686-42e4-b8fe-c9c76c4e4597"
      },
      "execution_count": null,
      "outputs": [
        {
          "output_type": "stream",
          "name": "stdout",
          "text": [
            "Maça Pera Fim "
          ]
        }
      ]
    },
    {
      "cell_type": "code",
      "source": [
        "print(\"Este é um texto longo, \\n eu quero quebrar a linha\")"
      ],
      "metadata": {
        "colab": {
          "base_uri": "https://localhost:8080/"
        },
        "id": "uV8WAg8LoVS6",
        "outputId": "15952e3b-ec58-4361-86c1-b4e91390cc27"
      },
      "execution_count": null,
      "outputs": [
        {
          "output_type": "stream",
          "name": "stdout",
          "text": [
            "Este é um texto longo, \n",
            " eu quero quebrar a linha\n"
          ]
        }
      ]
    },
    {
      "cell_type": "code",
      "source": [
        "print(\"Maça\", \"Pera\", sep='\\n')"
      ],
      "metadata": {
        "colab": {
          "base_uri": "https://localhost:8080/"
        },
        "id": "ipas7OhOodeK",
        "outputId": "ee1f520e-c6cb-41e5-f129-050e033611d2"
      },
      "execution_count": null,
      "outputs": [
        {
          "output_type": "stream",
          "name": "stdout",
          "text": [
            "Maça\n",
            "Pera\n"
          ]
        }
      ]
    },
    {
      "cell_type": "code",
      "source": [
        "print(\"A pontuação total de de %s foi %s pontos\" % (\"Luan\",\"10\"))"
      ],
      "metadata": {
        "colab": {
          "base_uri": "https://localhost:8080/"
        },
        "id": "5VCKgcdrolsO",
        "outputId": "c530e794-ca50-414f-9d25-19fea2759baa"
      },
      "execution_count": null,
      "outputs": [
        {
          "output_type": "stream",
          "name": "stdout",
          "text": [
            "A pontuação total de de Luan foi 10 pontos\n"
          ]
        }
      ]
    },
    {
      "cell_type": "code",
      "source": [
        "print(\"A pontuação total de {} foi {} pontos\".format(\"Luan\", \"10\"))"
      ],
      "metadata": {
        "colab": {
          "base_uri": "https://localhost:8080/"
        },
        "id": "gXjn2tiAo0Cd",
        "outputId": "bda5b05e-ed47-424f-b7f4-c64b426a225c"
      },
      "execution_count": null,
      "outputs": [
        {
          "output_type": "stream",
          "name": "stdout",
          "text": [
            "A pontuação total de Luan foi 10 pontos\n"
          ]
        }
      ]
    },
    {
      "cell_type": "code",
      "source": [
        "print(\"A pontuação total de\" + \" Luan\" + \" foi\" + \" 10\" + \" pontos\")"
      ],
      "metadata": {
        "colab": {
          "base_uri": "https://localhost:8080/"
        },
        "id": "2C3xpSQBpRJl",
        "outputId": "fcddaa12-d68e-4cdb-d93d-f88469f36b87"
      },
      "execution_count": null,
      "outputs": [
        {
          "output_type": "stream",
          "name": "stdout",
          "text": [
            "A pontuação total de Luan foi 10 pontos\n"
          ]
        }
      ]
    },
    {
      "cell_type": "code",
      "source": [
        "# Atividades\n",
        "'''\n",
        "1 - Realize o print do seu nome completo, sua idade e sua altura utilizando\n",
        "um print para cada valor.\n",
        "2 - Realize o print do seu nome completo, sua idade e sua altura utilizando\n",
        "apenas um print para todos valores.\n",
        "3 - Realize o print de 3 números de sua escolha em um mesmo print,\n",
        "mas separados pelo caractere '-'.\n",
        "'''\n",
        "\n",
        "print(\"Luan\")\n",
        "print(29)\n",
        "print(1.80)\n",
        "\n",
        "print(\"Luan\", 29, 1.80)\n",
        "\n",
        "print(30, 50, 88, sep='-')\n"
      ],
      "metadata": {
        "colab": {
          "base_uri": "https://localhost:8080/"
        },
        "id": "mjsdt6_sqCOm",
        "outputId": "5096824f-3003-49ab-e9d2-31adde56de92"
      },
      "execution_count": null,
      "outputs": [
        {
          "output_type": "stream",
          "name": "stdout",
          "text": [
            "Luan\n",
            "29\n",
            "1.8\n",
            "Luan 29 1.8\n",
            "30-50-88\n"
          ]
        }
      ]
    },
    {
      "cell_type": "markdown",
      "source": [
        "# **Variáveis**"
      ],
      "metadata": {
        "id": "qxNfoO9Tswfc"
      }
    },
    {
      "cell_type": "code",
      "source": [
        "_numero = 1\n",
        "Numero = 2\n",
        "numero = 3\n",
        "numemro1234 = 4\n",
        "print(_numero, Numero, numero, numemro1234)"
      ],
      "metadata": {
        "id": "KyEl9J4Vs7AL",
        "outputId": "caff18b8-c91f-44cc-ea53-d1c889207ad1",
        "colab": {
          "base_uri": "https://localhost:8080/"
        }
      },
      "execution_count": 1,
      "outputs": [
        {
          "output_type": "stream",
          "name": "stdout",
          "text": [
            "1 2 3 4\n"
          ]
        }
      ]
    },
    {
      "cell_type": "code",
      "source": [
        "inteiro = 10\n",
        "print(inteiro)"
      ],
      "metadata": {
        "id": "miwtmjZVuCLQ",
        "outputId": "bf52fe75-d45e-412c-9863-df9c76ab72c6",
        "colab": {
          "base_uri": "https://localhost:8080/"
        }
      },
      "execution_count": 2,
      "outputs": [
        {
          "output_type": "stream",
          "name": "stdout",
          "text": [
            "10\n"
          ]
        }
      ]
    },
    {
      "cell_type": "code",
      "source": [
        "decimal = 1.53\n",
        "print(decimal)"
      ],
      "metadata": {
        "id": "kFHfT5RfuJnI",
        "outputId": "248ba2be-cba2-4b87-eced-6133eb6fd3f0",
        "colab": {
          "base_uri": "https://localhost:8080/"
        }
      },
      "execution_count": 3,
      "outputs": [
        {
          "output_type": "stream",
          "name": "stdout",
          "text": [
            "1.53\n"
          ]
        }
      ]
    },
    {
      "cell_type": "code",
      "source": [
        "texto = \"Texto\"\n",
        "print(texto)"
      ],
      "metadata": {
        "id": "sCfYQU9XuTEE",
        "outputId": "7c061052-c4b7-4592-d3b4-531a505da96e",
        "colab": {
          "base_uri": "https://localhost:8080/"
        }
      },
      "execution_count": 4,
      "outputs": [
        {
          "output_type": "stream",
          "name": "stdout",
          "text": [
            "Texto\n"
          ]
        }
      ]
    },
    {
      "cell_type": "code",
      "source": [
        "var = True\n",
        "print(var)\n",
        "var = False\n",
        "print(var)"
      ],
      "metadata": {
        "id": "XIygN30CuZOt",
        "outputId": "86058ba5-6d6a-41ce-eedd-420b334946c0",
        "colab": {
          "base_uri": "https://localhost:8080/"
        }
      },
      "execution_count": 5,
      "outputs": [
        {
          "output_type": "stream",
          "name": "stdout",
          "text": [
            "True\n",
            "False\n"
          ]
        }
      ]
    },
    {
      "cell_type": "code",
      "source": [
        "var1 = 10\n",
        "var2 = var1\n",
        "print(var2)"
      ],
      "metadata": {
        "id": "SSBZ7sW7ujmk",
        "outputId": "cc5ad090-d649-41eb-cfe3-255cbeb0d0c4",
        "colab": {
          "base_uri": "https://localhost:8080/"
        }
      },
      "execution_count": 6,
      "outputs": [
        {
          "output_type": "stream",
          "name": "stdout",
          "text": [
            "10\n"
          ]
        }
      ]
    },
    {
      "cell_type": "code",
      "source": [
        "var = None\n",
        "print(var)\n",
        "var = 1\n",
        "print(var)\n",
        "var = \"Texto\"\n",
        "print(var)"
      ],
      "metadata": {
        "id": "rK8h5enCupDq",
        "outputId": "d3659ff1-7b12-452f-81cb-7ec18365288b",
        "colab": {
          "base_uri": "https://localhost:8080/"
        }
      },
      "execution_count": 8,
      "outputs": [
        {
          "output_type": "stream",
          "name": "stdout",
          "text": [
            "None\n",
            "1\n",
            "Texto\n"
          ]
        }
      ]
    },
    {
      "cell_type": "code",
      "source": [
        "# padrão camel case\n",
        "saldoBancario = 100\n",
        "\n",
        "# padrão pascal case\n",
        "SaldoBancario = 100\n",
        "\n",
        "# padrão snake case\n",
        "saldo_bancario = 100"
      ],
      "metadata": {
        "id": "E-OvSkNNwcz_"
      },
      "execution_count": 10,
      "outputs": []
    }
  ]
}