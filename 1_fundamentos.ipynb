{
  "nbformat": 4,
  "nbformat_minor": 0,
  "metadata": {
    "colab": {
      "provenance": [],
      "authorship_tag": "ABX9TyOKx0XbaQNZt2NskmrTBCYL",
      "include_colab_link": true
    },
    "kernelspec": {
      "name": "python3",
      "display_name": "Python 3"
    },
    "language_info": {
      "name": "python"
    }
  },
  "cells": [
    {
      "cell_type": "markdown",
      "metadata": {
        "id": "view-in-github",
        "colab_type": "text"
      },
      "source": [
        "<a href=\"https://colab.research.google.com/github/Luan-Felipe-R-Sanches/Exercicios_python/blob/main/1_fundamentos.ipynb\" target=\"_parent\"><img src=\"https://colab.research.google.com/assets/colab-badge.svg\" alt=\"Open In Colab\"/></a>"
      ]
    },
    {
      "cell_type": "code",
      "execution_count": null,
      "metadata": {
        "id": "LOqGV3a-nK2-"
      },
      "outputs": [],
      "source": [
        "# Comentário"
      ]
    },
    {
      "cell_type": "code",
      "source": [
        "'''\n",
        "Comentario\n",
        "Comentario\n",
        "'''"
      ],
      "metadata": {
        "id": "JfXUHCHvneFf"
      },
      "execution_count": null,
      "outputs": []
    },
    {
      "cell_type": "code",
      "source": [
        "print(\"Olá mundo\")\n",
        "print(10)\n",
        "print(20.5)"
      ],
      "metadata": {
        "colab": {
          "base_uri": "https://localhost:8080/"
        },
        "id": "VJXMnBU7njdt",
        "outputId": "451c82fe-cb80-4fc6-f017-a1f7c7a43627"
      },
      "execution_count": null,
      "outputs": [
        {
          "output_type": "stream",
          "name": "stdout",
          "text": [
            "Olá mundo\n",
            "10\n",
            "20.5\n"
          ]
        }
      ]
    },
    {
      "cell_type": "code",
      "source": [
        "print(\"Maça\", 20, 30.45)"
      ],
      "metadata": {
        "colab": {
          "base_uri": "https://localhost:8080/"
        },
        "id": "LHsNf-mNny7B",
        "outputId": "4d9f8c9d-ca39-437d-a70f-81cfcec18336"
      },
      "execution_count": null,
      "outputs": [
        {
          "output_type": "stream",
          "name": "stdout",
          "text": [
            "Maça 20 30.45\n"
          ]
        }
      ]
    },
    {
      "cell_type": "code",
      "source": [
        "print(\"Maça\", \"Pera\",\"Uva\", sep=' - ')"
      ],
      "metadata": {
        "colab": {
          "base_uri": "https://localhost:8080/"
        },
        "id": "EWe9dytWn5i0",
        "outputId": "007e3cec-28e8-4781-fb76-e50a5aeb5c32"
      },
      "execution_count": null,
      "outputs": [
        {
          "output_type": "stream",
          "name": "stdout",
          "text": [
            "Maça - Pera - Uva\n"
          ]
        }
      ]
    },
    {
      "cell_type": "code",
      "source": [
        "print(\"Maça\", \"Pera\", end = ' Fim ', sep=' ')"
      ],
      "metadata": {
        "colab": {
          "base_uri": "https://localhost:8080/"
        },
        "id": "cY2RYxrYoH58",
        "outputId": "982258fd-f686-42e4-b8fe-c9c76c4e4597"
      },
      "execution_count": null,
      "outputs": [
        {
          "output_type": "stream",
          "name": "stdout",
          "text": [
            "Maça Pera Fim "
          ]
        }
      ]
    },
    {
      "cell_type": "code",
      "source": [
        "print(\"Este é um texto longo, \\n eu quero quebrar a linha\")"
      ],
      "metadata": {
        "colab": {
          "base_uri": "https://localhost:8080/"
        },
        "id": "uV8WAg8LoVS6",
        "outputId": "15952e3b-ec58-4361-86c1-b4e91390cc27"
      },
      "execution_count": null,
      "outputs": [
        {
          "output_type": "stream",
          "name": "stdout",
          "text": [
            "Este é um texto longo, \n",
            " eu quero quebrar a linha\n"
          ]
        }
      ]
    },
    {
      "cell_type": "code",
      "source": [
        "print(\"Maça\", \"Pera\", sep='\\n')"
      ],
      "metadata": {
        "colab": {
          "base_uri": "https://localhost:8080/"
        },
        "id": "ipas7OhOodeK",
        "outputId": "ee1f520e-c6cb-41e5-f129-050e033611d2"
      },
      "execution_count": null,
      "outputs": [
        {
          "output_type": "stream",
          "name": "stdout",
          "text": [
            "Maça\n",
            "Pera\n"
          ]
        }
      ]
    },
    {
      "cell_type": "code",
      "source": [
        "print(\"A pontuação total de de %s foi %s pontos\" % (\"Luan\",\"10\"))"
      ],
      "metadata": {
        "colab": {
          "base_uri": "https://localhost:8080/"
        },
        "id": "5VCKgcdrolsO",
        "outputId": "c530e794-ca50-414f-9d25-19fea2759baa"
      },
      "execution_count": null,
      "outputs": [
        {
          "output_type": "stream",
          "name": "stdout",
          "text": [
            "A pontuação total de de Luan foi 10 pontos\n"
          ]
        }
      ]
    },
    {
      "cell_type": "code",
      "source": [
        "print(\"A pontuação total de {} foi {} pontos\".format(\"Luan\", \"10\"))"
      ],
      "metadata": {
        "colab": {
          "base_uri": "https://localhost:8080/"
        },
        "id": "gXjn2tiAo0Cd",
        "outputId": "bda5b05e-ed47-424f-b7f4-c64b426a225c"
      },
      "execution_count": null,
      "outputs": [
        {
          "output_type": "stream",
          "name": "stdout",
          "text": [
            "A pontuação total de Luan foi 10 pontos\n"
          ]
        }
      ]
    },
    {
      "cell_type": "code",
      "source": [
        "print(\"A pontuação total de\" + \" Luan\" + \" foi\" + \" 10\" + \" pontos\")"
      ],
      "metadata": {
        "colab": {
          "base_uri": "https://localhost:8080/"
        },
        "id": "2C3xpSQBpRJl",
        "outputId": "fcddaa12-d68e-4cdb-d93d-f88469f36b87"
      },
      "execution_count": null,
      "outputs": [
        {
          "output_type": "stream",
          "name": "stdout",
          "text": [
            "A pontuação total de Luan foi 10 pontos\n"
          ]
        }
      ]
    },
    {
      "cell_type": "code",
      "source": [
        "# Atividades\n",
        "'''\n",
        "1 - Realize o print do seu nome completo, sua idade e sua altura utilizando\n",
        "um print para cada valor.\n",
        "2 - Realize o print do seu nome completo, sua idade e sua altura utilizando\n",
        "apenas um print para todos valores.\n",
        "3 - Realize o print de 3 números de sua escolha em um mesmo print,\n",
        "mas separados pelo caractere '-'.\n",
        "'''\n",
        "\n",
        "print(\"Luan\")\n",
        "print(29)\n",
        "print(1.80)\n",
        "\n",
        "print(\"Luan\", 29, 1.80)\n",
        "\n",
        "print(30, 50, 88, sep='-')\n"
      ],
      "metadata": {
        "colab": {
          "base_uri": "https://localhost:8080/"
        },
        "id": "mjsdt6_sqCOm",
        "outputId": "5096824f-3003-49ab-e9d2-31adde56de92"
      },
      "execution_count": null,
      "outputs": [
        {
          "output_type": "stream",
          "name": "stdout",
          "text": [
            "Luan\n",
            "29\n",
            "1.8\n",
            "Luan 29 1.8\n",
            "30-50-88\n"
          ]
        }
      ]
    },
    {
      "cell_type": "markdown",
      "source": [
        "# **Variáveis**"
      ],
      "metadata": {
        "id": "qxNfoO9Tswfc"
      }
    },
    {
      "cell_type": "code",
      "source": [
        "_numero = 1\n",
        "Numero = 2\n",
        "numero = 3\n",
        "numemro1234 = 4\n",
        "print(_numero, Numero, numero, numemro1234)"
      ],
      "metadata": {
        "id": "KyEl9J4Vs7AL",
        "outputId": "caff18b8-c91f-44cc-ea53-d1c889207ad1",
        "colab": {
          "base_uri": "https://localhost:8080/"
        }
      },
      "execution_count": null,
      "outputs": [
        {
          "output_type": "stream",
          "name": "stdout",
          "text": [
            "1 2 3 4\n"
          ]
        }
      ]
    },
    {
      "cell_type": "code",
      "source": [
        "inteiro = 10\n",
        "print(inteiro)"
      ],
      "metadata": {
        "id": "miwtmjZVuCLQ",
        "outputId": "bf52fe75-d45e-412c-9863-df9c76ab72c6",
        "colab": {
          "base_uri": "https://localhost:8080/"
        }
      },
      "execution_count": null,
      "outputs": [
        {
          "output_type": "stream",
          "name": "stdout",
          "text": [
            "10\n"
          ]
        }
      ]
    },
    {
      "cell_type": "code",
      "source": [
        "decimal = 1.53\n",
        "print(decimal)"
      ],
      "metadata": {
        "id": "kFHfT5RfuJnI",
        "outputId": "248ba2be-cba2-4b87-eced-6133eb6fd3f0",
        "colab": {
          "base_uri": "https://localhost:8080/"
        }
      },
      "execution_count": null,
      "outputs": [
        {
          "output_type": "stream",
          "name": "stdout",
          "text": [
            "1.53\n"
          ]
        }
      ]
    },
    {
      "cell_type": "code",
      "source": [
        "texto = \"Texto\"\n",
        "print(texto)"
      ],
      "metadata": {
        "id": "sCfYQU9XuTEE",
        "outputId": "7c061052-c4b7-4592-d3b4-531a505da96e",
        "colab": {
          "base_uri": "https://localhost:8080/"
        }
      },
      "execution_count": null,
      "outputs": [
        {
          "output_type": "stream",
          "name": "stdout",
          "text": [
            "Texto\n"
          ]
        }
      ]
    },
    {
      "cell_type": "code",
      "source": [
        "var = True\n",
        "print(var)\n",
        "var = False\n",
        "print(var)"
      ],
      "metadata": {
        "id": "XIygN30CuZOt",
        "outputId": "86058ba5-6d6a-41ce-eedd-420b334946c0",
        "colab": {
          "base_uri": "https://localhost:8080/"
        }
      },
      "execution_count": null,
      "outputs": [
        {
          "output_type": "stream",
          "name": "stdout",
          "text": [
            "True\n",
            "False\n"
          ]
        }
      ]
    },
    {
      "cell_type": "code",
      "source": [
        "var1 = 10\n",
        "var2 = var1\n",
        "print(var2)"
      ],
      "metadata": {
        "id": "SSBZ7sW7ujmk",
        "outputId": "cc5ad090-d649-41eb-cfe3-255cbeb0d0c4",
        "colab": {
          "base_uri": "https://localhost:8080/"
        }
      },
      "execution_count": null,
      "outputs": [
        {
          "output_type": "stream",
          "name": "stdout",
          "text": [
            "10\n"
          ]
        }
      ]
    },
    {
      "cell_type": "code",
      "source": [
        "var = None\n",
        "print(var)\n",
        "var = 1\n",
        "print(var)\n",
        "var = \"Texto\"\n",
        "print(var)"
      ],
      "metadata": {
        "id": "rK8h5enCupDq",
        "outputId": "d3659ff1-7b12-452f-81cb-7ec18365288b",
        "colab": {
          "base_uri": "https://localhost:8080/"
        }
      },
      "execution_count": null,
      "outputs": [
        {
          "output_type": "stream",
          "name": "stdout",
          "text": [
            "None\n",
            "1\n",
            "Texto\n"
          ]
        }
      ]
    },
    {
      "cell_type": "code",
      "source": [
        "# padrão camel case\n",
        "saldoBancario = 100\n",
        "\n",
        "# padrão pascal case\n",
        "SaldoBancario = 100\n",
        "\n",
        "# padrão snake case\n",
        "saldo_bancario = 100"
      ],
      "metadata": {
        "id": "E-OvSkNNwcz_"
      },
      "execution_count": null,
      "outputs": []
    },
    {
      "cell_type": "markdown",
      "source": [
        "# **Formatação de Texto**"
      ],
      "metadata": {
        "id": "u4DD64ZtpR67"
      }
    },
    {
      "cell_type": "code",
      "source": [
        "'''\n",
        "%$ texto\n",
        "%d inteiro\n",
        "%f real\n",
        "'''"
      ],
      "metadata": {
        "id": "ROfbgzDapay5"
      },
      "execution_count": null,
      "outputs": []
    },
    {
      "cell_type": "code",
      "source": [
        "nome = \"Carolina\"\n",
        "texto_formatado = \"O nome dela é %s \" % (nome)\n",
        "print(texto_formatado)"
      ],
      "metadata": {
        "id": "i1hKi7yVpnDq",
        "outputId": "8c3127de-0851-4821-9f1a-1dfe74c149a1",
        "colab": {
          "base_uri": "https://localhost:8080/"
        }
      },
      "execution_count": null,
      "outputs": [
        {
          "output_type": "stream",
          "name": "stdout",
          "text": [
            "O nome dela é Carolina \n"
          ]
        }
      ]
    },
    {
      "cell_type": "code",
      "source": [
        "nome = \"Luan\"\n",
        "idade = 29\n",
        "altura = 1.80\n",
        "texto = \"Meu nome é %s, tenho %d anos e minha altura é %.2f\" % (nome, idade, altura)\n",
        "print(texto)"
      ],
      "metadata": {
        "id": "EGKTeJlkqFwt",
        "outputId": "5a99b5f4-461f-4fbc-90c0-a0649fbe5aab",
        "colab": {
          "base_uri": "https://localhost:8080/"
        }
      },
      "execution_count": null,
      "outputs": [
        {
          "output_type": "stream",
          "name": "stdout",
          "text": [
            "Meu nome é Luan, tenho 29 anos e minha altura é 1.80\n"
          ]
        }
      ]
    },
    {
      "cell_type": "code",
      "source": [
        "numero_gigante = 1.23456789\n",
        "print(\"Número gigante formatado: %.2f\" % numero_gigante)"
      ],
      "metadata": {
        "id": "dv-uarO7qeo1",
        "outputId": "98e412ff-b1de-44e9-e654-e41275581270",
        "colab": {
          "base_uri": "https://localhost:8080/"
        }
      },
      "execution_count": null,
      "outputs": [
        {
          "output_type": "stream",
          "name": "stdout",
          "text": [
            "Número gigante formatado: 1.23\n"
          ]
        }
      ]
    },
    {
      "cell_type": "code",
      "source": [
        "valor = True\n",
        "print(\"O valor é %s\" % (valor))\n",
        "print(\"O valor é %d\" % (valor))\n"
      ],
      "metadata": {
        "id": "CGOyojGpqxAc",
        "outputId": "7e02292f-3ba0-462a-cb8b-9f483feac3f6",
        "colab": {
          "base_uri": "https://localhost:8080/"
        }
      },
      "execution_count": null,
      "outputs": [
        {
          "output_type": "stream",
          "name": "stdout",
          "text": [
            "O valor é True\n",
            "O valor é 1\n"
          ]
        }
      ]
    },
    {
      "cell_type": "code",
      "source": [
        "decimal = 23.4566\n",
        "print(\"A parte inteira é %d\" % (decimal))"
      ],
      "metadata": {
        "id": "Y8uoVFaorBHx",
        "outputId": "66614a74-2042-4057-d464-6571e1e5961b",
        "colab": {
          "base_uri": "https://localhost:8080/"
        }
      },
      "execution_count": null,
      "outputs": [
        {
          "output_type": "stream",
          "name": "stdout",
          "text": [
            "A parte inteira é 23\n"
          ]
        }
      ]
    },
    {
      "cell_type": "markdown",
      "source": [
        "# **Formatação com Caracteres Especiais**"
      ],
      "metadata": {
        "id": "5EjrmYK5VDfU"
      }
    },
    {
      "cell_type": "code",
      "source": [
        "texto = \"Olá, assim se \\n\\t quebra uma linha,\\nentendeu? \"\n",
        "print(texto)"
      ],
      "metadata": {
        "colab": {
          "base_uri": "https://localhost:8080/"
        },
        "id": "vYOw-FkeVHCS",
        "outputId": "c7914be3-5384-4bd4-d84c-da2c97c64e3b"
      },
      "execution_count": null,
      "outputs": [
        {
          "output_type": "stream",
          "name": "stdout",
          "text": [
            "Olá, assim se \n",
            "\tquebra uma linha,\n",
            "entendeu? \n"
          ]
        }
      ]
    },
    {
      "cell_type": "code",
      "source": [
        "texto = 'Deixe a \\'palavra\\' entre aspas'\n",
        "texto = \"Deixe a palavra entre aspas\""
      ],
      "metadata": {
        "id": "ZHZoGNyeVrHE"
      },
      "execution_count": null,
      "outputs": []
    },
    {
      "cell_type": "markdown",
      "source": [
        "# **Atividades**"
      ],
      "metadata": {
        "id": "6JD_bV_PXvbS"
      }
    },
    {
      "cell_type": "code",
      "source": [
        "'''\n",
        "1 - Escreva e formate a data em que você nasceu no formato dia/mês/ano. Não\n",
        " esqueça de criar 3 variáveis para guardar o dia, mês e ano.\n",
        "\n",
        "Exemplo de saída:\n",
        "Eu nasci em 30/9/1998\n",
        "\n",
        "2 - Escreva e formate a hora e minuto atual. Não esqueça de criar duas variáveis\n",
        " para guardar a hora e minuto.\n",
        "\n",
        "Exemplo de saída:\n",
        "Agora são 22 horas e 37 minutos\n",
        "\n",
        "3 - Escreva um programa que contém o número PI, que deve ter o valor exato de\n",
        "3.14159265359. Agora formate esse número para ter apenas cinco casas decimais.\n",
        "\n",
        "Exemplo de saída:\n",
        "O PI é 3.14159\n",
        "'''"
      ],
      "metadata": {
        "id": "eTQb5KQbXx_M"
      },
      "execution_count": null,
      "outputs": []
    },
    {
      "cell_type": "code",
      "source": [
        "dia = 25\n",
        "mes = 8\n",
        "ano = 1995\n",
        "\n",
        "print(f\"{dia}/{mes}/{ano}\")"
      ],
      "metadata": {
        "colab": {
          "base_uri": "https://localhost:8080/"
        },
        "id": "sssnqScMX9BB",
        "outputId": "878b9713-bfad-43d5-fff6-4ab0a37fd56f"
      },
      "execution_count": null,
      "outputs": [
        {
          "output_type": "stream",
          "name": "stdout",
          "text": [
            "25/8/1995\n"
          ]
        }
      ]
    },
    {
      "cell_type": "code",
      "source": [
        "horas = 12\n",
        "minutos = 36\n",
        "\n",
        "print(f\"Agora são {horas} horas e {minutos} minutos\")\n",
        "print(\"Agora são %d horas e %d minutos\" % (horas, minutos))"
      ],
      "metadata": {
        "colab": {
          "base_uri": "https://localhost:8080/"
        },
        "id": "MDWrE5FGZA8l",
        "outputId": "05be83c1-3d00-4524-9796-fd3ff63f6a13"
      },
      "execution_count": null,
      "outputs": [
        {
          "output_type": "stream",
          "name": "stdout",
          "text": [
            "Agora são 12 e 36 minutos\n",
            "Agora são 12 horas e 36 minutos\n"
          ]
        }
      ]
    },
    {
      "cell_type": "code",
      "source": [
        "pi = 3.14159265359\n",
        "print(f\"{pi:.5f}\")\n",
        "\n",
        "pi_formatado = 'O PI é normalmente exibido com %.5f' % (pi)\n",
        "print(pi_formatado)"
      ],
      "metadata": {
        "colab": {
          "base_uri": "https://localhost:8080/"
        },
        "id": "q6dZHZDLZWCf",
        "outputId": "0561c309-90d4-4899-b6cc-f098fb29577a"
      },
      "execution_count": null,
      "outputs": [
        {
          "output_type": "stream",
          "name": "stdout",
          "text": [
            "3.14159\n",
            "O PI é normalmente exibido com 3.14159\n"
          ]
        }
      ]
    },
    {
      "cell_type": "markdown",
      "source": [
        "# **Operadores Aritméticos**"
      ],
      "metadata": {
        "id": "t3cKRlbndYSG"
      }
    },
    {
      "cell_type": "code",
      "source": [
        "'''\n",
        "Ordem de Prioridade - Operadores\n",
        "\n",
        "1 - (exponenciação)\n",
        "\n",
        "2 - (multiplicação)\n",
        "\n",
        "3 - / (divisão)\n",
        "\n",
        "4 - % (resto da divisão ou mod)\n",
        "\n",
        "5 - // (divisão inteira)\n",
        "'''"
      ],
      "metadata": {
        "id": "tE8cQh9Idaxs"
      },
      "execution_count": null,
      "outputs": []
    },
    {
      "cell_type": "markdown",
      "source": [
        "# **Exemplos de Ordem de Prioridade**"
      ],
      "metadata": {
        "id": "-vZ1OYzHIl8k"
      }
    },
    {
      "cell_type": "code",
      "source": [
        "num1 = 10 * (2 + 1)\n",
        "print(num1)"
      ],
      "metadata": {
        "colab": {
          "base_uri": "https://localhost:8080/"
        },
        "id": "ph5tsF0GInT0",
        "outputId": "fc4a5640-501f-436c-d36f-17dfd23263e9"
      },
      "execution_count": null,
      "outputs": [
        {
          "output_type": "stream",
          "name": "stdout",
          "text": [
            "30\n"
          ]
        }
      ]
    },
    {
      "cell_type": "code",
      "source": [
        "num1 = 3 * (3 - 9)\n",
        "print(num1)"
      ],
      "metadata": {
        "colab": {
          "base_uri": "https://localhost:8080/"
        },
        "id": "g1LhcAd0Iwbg",
        "outputId": "8a2bae1d-480f-4b30-f513-32de006c3b9e"
      },
      "execution_count": null,
      "outputs": [
        {
          "output_type": "stream",
          "name": "stdout",
          "text": [
            "-18\n"
          ]
        }
      ]
    },
    {
      "cell_type": "markdown",
      "source": [
        "# **Atividades sobre Operações Aritméticas**"
      ],
      "metadata": {
        "id": "L8VF1fU6QZ70"
      }
    },
    {
      "cell_type": "code",
      "source": [
        "'''\n",
        "1 - Crie um programa que possui duas variáveis, uma recebe o ano em que\n",
        "estamos e a outra o ano em que você nasceu. Em seguida subtraia ambas\n",
        "para receber uma estimativa de quantos anos você tem. Mostre esse valor\n",
        "na saída do programa.\n",
        "\n",
        "2 - Crie um programa que faz a média aritmética entre três números.\n",
        "Estes números devem ser salvos em uma variável. Mostre esse valor na\n",
        "saída do programa.\n",
        "\n",
        "3 - Crie um programa que calcule o IMC (índice de massa corporal).\n",
        "O IMC é dado pelo peso em KG divido pela altura em metros elevado\n",
        "ao quadrado. Salvar esses valores em uma variável. Mostre esse valor na saída do programa.\n",
        "\n",
        "4 (Desafio) - Você tem um determinado números de ovos de páscoa para dividir\n",
        "entre um determinado número de pessoas (duas variáveis iniciais). Determine\n",
        "quantos ovos ficarão por pessoa e quantos ovos sobrarão pois não puderam ser\n",
        "divido igualmente. Lembre o número de ovos por pessoa é um número inteiro'''"
      ],
      "metadata": {
        "id": "VSozSNtuI8OI"
      },
      "execution_count": null,
      "outputs": []
    },
    {
      "cell_type": "code",
      "source": [
        "ano_atual = 2025\n",
        "ano_nascimento = 1995\n",
        "\n",
        "print(ano_atual - ano_nascimento)"
      ],
      "metadata": {
        "colab": {
          "base_uri": "https://localhost:8080/"
        },
        "id": "Q7wN_1fVMe0d",
        "outputId": "33e52449-a211-48f0-fde8-6200f5709f7f"
      },
      "execution_count": null,
      "outputs": [
        {
          "output_type": "stream",
          "name": "stdout",
          "text": [
            "30\n"
          ]
        }
      ]
    },
    {
      "cell_type": "code",
      "source": [
        "nota_1 = 7.5\n",
        "nota_2 = 9.5\n",
        "nota_3 = 6.8\n",
        "\n",
        "media = (nota_1 + nota_2 + nota_3) / 3\n",
        "print(media)\n"
      ],
      "metadata": {
        "colab": {
          "base_uri": "https://localhost:8080/"
        },
        "id": "l7VK1wWcNNLv",
        "outputId": "f1f58943-61e2-4b33-b299-4c94216a7749"
      },
      "execution_count": null,
      "outputs": [
        {
          "output_type": "stream",
          "name": "stdout",
          "text": [
            "7.933333333333334\n"
          ]
        }
      ]
    },
    {
      "cell_type": "code",
      "source": [
        "peso = 99\n",
        "altura = 1.80\n",
        "imc = peso / (altura ** 2)\n",
        "print(imc)"
      ],
      "metadata": {
        "colab": {
          "base_uri": "https://localhost:8080/"
        },
        "id": "Ih3Dw7SuOHD4",
        "outputId": "eb1f45bf-43b4-456e-a6b6-72d0ba24f904"
      },
      "execution_count": null,
      "outputs": [
        {
          "output_type": "stream",
          "name": "stdout",
          "text": [
            "30.555555555555554\n"
          ]
        }
      ]
    },
    {
      "cell_type": "code",
      "source": [
        "ovos = 4\n",
        "pessoas = 6\n",
        "\n",
        "ovos_por_pessoa = ovos // pessoas\n",
        "ovos_sobra = ovos % pessoas\n",
        "\n",
        "print(ovos_por_pessoa)\n",
        "print(ovos_sobra)"
      ],
      "metadata": {
        "colab": {
          "base_uri": "https://localhost:8080/"
        },
        "id": "cUi--qq0OpHZ",
        "outputId": "f495a0be-4728-47fd-85a8-72ffc99bbeed"
      },
      "execution_count": null,
      "outputs": [
        {
          "output_type": "stream",
          "name": "stdout",
          "text": [
            "0\n",
            "4\n"
          ]
        }
      ]
    },
    {
      "cell_type": "markdown",
      "source": [
        "# ***Operadores Lógicos***"
      ],
      "metadata": {
        "id": "k1YEfVhoeDFl"
      }
    },
    {
      "cell_type": "markdown",
      "source": [
        "Aplicados a operações lógicas e tem como resultado verdadeiro ou falso.\n",
        "\n",
        "---\n",
        "\n",
        "### AND\n",
        "Resulta verdadeiro se todos os valores envolvidos na operação forem verdadeiros, caso contrário resulta false.\n",
        "* `True AND False => False`\n",
        "* `True AND True => True`\n",
        "* `False OR False => False`\n",
        "\n",
        "### OR\n",
        "Resulta em verdadeiro se qualquer um dos operadores for verdadeiro.\n",
        "* `True OR False => True`\n",
        "* `True OR True => True`\n",
        "* `False OR False => False`\n",
        "\n",
        "### NOT\n",
        "Inverte o resultado lógico.\n",
        "* `Not(True) => False`\n",
        "* `Not(False) => True`\n",
        "\n",
        "---\n",
        "\n",
        "### Exemplo Prático 1 (E)\n",
        "\n",
        "**Para Utilizar o Aparelho é Preciso:**\n",
        "* 16 anos\n",
        "* **E**\n",
        "* 1,70 (de altura)\n",
        "\n",
        "*(Neste caso, a pessoa precisa atender a AMBAS as condições: ter 16 anos E ter 1,70m de altura.)*\n",
        "\n",
        "---\n",
        "\n",
        "### Exemplo Prático 2 (OU)\n",
        "\n",
        "**Para Utilizar o Aparelho é Preciso:**\n",
        "* 16 anos\n",
        "* **OU**\n",
        "* 1,70 (de altura)\n",
        "\n",
        "*(Neste caso, a pessoa precisa atender a APENAS UMA das condições: ter 16 anos OU ter 1,70m de altura.)*"
      ],
      "metadata": {
        "id": "Cbr6NjKaec-y"
      }
    },
    {
      "cell_type": "code",
      "source": [
        "resultado1 = True and False\n",
        "print(resultado1)"
      ],
      "metadata": {
        "id": "eFEF7wq0e1M-",
        "outputId": "8ba1b9f8-0f6c-42b0-cc49-7d65d1634867",
        "colab": {
          "base_uri": "https://localhost:8080/"
        }
      },
      "execution_count": null,
      "outputs": [
        {
          "output_type": "stream",
          "name": "stdout",
          "text": [
            "False\n"
          ]
        }
      ]
    },
    {
      "cell_type": "code",
      "source": [
        "resultado2  = True and True\n",
        "print(resultado2)"
      ],
      "metadata": {
        "id": "nFjyimCcgZLi",
        "outputId": "686970cd-4658-4d76-a73f-f754e3d7bf08",
        "colab": {
          "base_uri": "https://localhost:8080/"
        }
      },
      "execution_count": null,
      "outputs": [
        {
          "output_type": "stream",
          "name": "stdout",
          "text": [
            "True\n"
          ]
        }
      ]
    },
    {
      "cell_type": "code",
      "source": [
        "var1 = True\n",
        "var2 = True\n",
        "var3 = True\n",
        "print(var1 and var2 and var3)"
      ],
      "metadata": {
        "id": "sO72uzj3gko6",
        "outputId": "75f42b89-eed2-4b2c-8010-f7e0687fbf0e",
        "colab": {
          "base_uri": "https://localhost:8080/"
        }
      },
      "execution_count": null,
      "outputs": [
        {
          "output_type": "stream",
          "name": "stdout",
          "text": [
            "True\n"
          ]
        }
      ]
    },
    {
      "cell_type": "code",
      "source": [
        "clima_bom = False\n",
        "estou_disposto = True\n",
        "vou_ao_mercado  = clima_bom and estou_disposto\n",
        "print(\"Vou ao mercado?\", vou_ao_mercado)\n"
      ],
      "metadata": {
        "id": "JZ2ES--Pg-JP",
        "outputId": "eb71f033-6321-4bf3-89d9-9f5fa805e0de",
        "colab": {
          "base_uri": "https://localhost:8080/"
        }
      },
      "execution_count": null,
      "outputs": [
        {
          "output_type": "stream",
          "name": "stdout",
          "text": [
            "Vou ao mercado? False\n"
          ]
        }
      ]
    },
    {
      "cell_type": "code",
      "source": [
        "sei_programar = True\n",
        "sei_investir = True\n",
        "ganho_bom_salario = sei_programar or sei_investir\n",
        "print(\"Terei um bom salário\", ganho_bom_salario)"
      ],
      "metadata": {
        "id": "fLJORBgAhajR",
        "outputId": "7d895113-d503-40e3-b60a-d454506dc50c",
        "colab": {
          "base_uri": "https://localhost:8080/"
        }
      },
      "execution_count": null,
      "outputs": [
        {
          "output_type": "stream",
          "name": "stdout",
          "text": [
            "Terei um bom salário True\n"
          ]
        }
      ]
    },
    {
      "cell_type": "code",
      "source": [
        "porta_aberta = True\n",
        "tem_chave = False\n",
        "print(\"Estou trancado? \", not porta_aberta and not tem_chave)"
      ],
      "metadata": {
        "id": "Lz35MSlziPhB",
        "outputId": "e35bf163-593a-4408-c11c-d85607b11f32",
        "colab": {
          "base_uri": "https://localhost:8080/"
        }
      },
      "execution_count": null,
      "outputs": [
        {
          "output_type": "stream",
          "name": "stdout",
          "text": [
            "Estou trancado?  False\n"
          ]
        }
      ]
    },
    {
      "cell_type": "markdown",
      "source": [
        "**Prioridades**\n",
        "\n",
        "NOT, AND, OR"
      ],
      "metadata": {
        "id": "RL1cr0U5i80C"
      }
    },
    {
      "cell_type": "code",
      "source": [
        "bool1 = True or False and True\n",
        "print(bool1)"
      ],
      "metadata": {
        "id": "SyUGTbPajGAO"
      },
      "execution_count": null,
      "outputs": []
    },
    {
      "cell_type": "code",
      "source": [
        "bool2 = True or not False\n",
        "print(bool2)"
      ],
      "metadata": {
        "id": "3F_zS_x-jbpu",
        "outputId": "c3975d66-9ef8-4333-9536-cbbd381c8d0c",
        "colab": {
          "base_uri": "https://localhost:8080/"
        }
      },
      "execution_count": null,
      "outputs": [
        {
          "output_type": "stream",
          "name": "stdout",
          "text": [
            "True\n"
          ]
        }
      ]
    },
    {
      "cell_type": "code",
      "source": [
        "bool3 = True and not (True or False)\n",
        "print(bool3)"
      ],
      "metadata": {
        "id": "R6hr_KWHkJPG",
        "outputId": "5e778843-e865-41b8-ed09-03cb43207986",
        "colab": {
          "base_uri": "https://localhost:8080/"
        }
      },
      "execution_count": null,
      "outputs": [
        {
          "output_type": "stream",
          "name": "stdout",
          "text": [
            "False\n"
          ]
        }
      ]
    },
    {
      "cell_type": "markdown",
      "source": [
        "### **Atividades**\n",
        "\n",
        "**1 -** Crie um programa que diga “se você precisar ir ao mercado”. Você precisa ir ao mercado se “faltar comida” ou “se for sábado”. Mostre na saída do programa o valor lógico, indicando sim ou não.\n",
        "\n",
        "**2 -** Crie um programa que responda “se você pode atravessar a rua” na faixa de pedestres. Você pode atravessar a rua se o “sinal estiver vermelho” e “se não houver nenhum carro vindo da direita” E “nem da esquerda”. Altere as variáveis para verificar se o programa está correto. Mostre na saída do programa o valor lógico.\n",
        "\n",
        "**3 -** Agora faça a mesma coisa que o exercício anterior, mas desta vez você está com pressa e para atravessar a rua basta que o sinal esteja vermelho “OU” que não venha carro da esquerda e direita. Altere as variáveis para verificar a resposta em comparação com o exercício anterior. Mostre na saída do programa o valor lógico."
      ],
      "metadata": {
        "id": "ZUV3DTqHk6YI"
      }
    },
    {
      "cell_type": "code",
      "source": [
        "'''\n",
        "Crie um programa que diga “se você precisar ir ao mercado”. Você precisa ir ao\n",
        "mercado se “faltar comida” ou “se for sábado”. Mostre na saída do programa o\n",
        "valor lógico, indicando sim ou não.\n",
        "'''\n",
        "falta_comida = True\n",
        "sabado = False\n",
        "ir_mercado = falta_comida or sabado\n",
        "print(ir_mercado)"
      ],
      "metadata": {
        "id": "swEt_uLJk8a3",
        "outputId": "4cfde20a-75ec-4b97-c6d9-88e4a6e66661",
        "colab": {
          "base_uri": "https://localhost:8080/"
        }
      },
      "execution_count": null,
      "outputs": [
        {
          "output_type": "stream",
          "name": "stdout",
          "text": [
            "True\n"
          ]
        }
      ]
    },
    {
      "cell_type": "code",
      "source": [
        "'''\n",
        "Crie um programa que responda “se você pode atravessar a rua” na faixa de\n",
        "pedestres. Você pode atravessar a rua se o “sinal estiver vermelho” e\n",
        "“se não houver nenhum carro vindo da direita” E “nem da esquerda”.\n",
        "Altere as variáveis para verificar se o programa está correto.\n",
        "Mostre na saída do programa o valor lógico.\n",
        "'''\n",
        "sinal_vermelho = True\n",
        "veiculo_direita = False\n",
        "veiculo_esquerda = False\n",
        "pode_atravessar = sinal_vermelho and not veiculo_direita and not veiculo_esquerda\n",
        "print(\"Sinal vermelho:\", sinal_vermelho)\n",
        "print(\"Veículo à direita:\", veiculo_direita)\n",
        "print(\"Veículo à esquerda:\", veiculo_esquerda)\n",
        "print(\"Pode atravessar?\", pode_atravessar)\n"
      ],
      "metadata": {
        "id": "k1NWZSBElfTq",
        "outputId": "db84f32b-330a-4185-a580-d860104687c3",
        "colab": {
          "base_uri": "https://localhost:8080/"
        }
      },
      "execution_count": null,
      "outputs": [
        {
          "output_type": "stream",
          "name": "stdout",
          "text": [
            "Sinal vermelho: True\n",
            "Veículo à direita: False\n",
            "Veículo à esquerda: False\n",
            "Pode atravessar? True\n"
          ]
        }
      ]
    },
    {
      "cell_type": "code",
      "source": [
        "'''\n",
        "Agora faça a mesma coisa que o exercício anterior, mas desta vez você\n",
        "está com pressa e para atravessar a rua basta que o sinal esteja vermelho\n",
        "“OU” que não venha carro da esquerda e direita. Altere as variáveis para\n",
        "verificar a resposta em comparação com o exercício anterior.\n",
        "Mostre na saída do programa o valor lógico.\n",
        "'''\n",
        "\n",
        "sinal_vermelho = False\n",
        "veiculo_direita = False\n",
        "veiculo_esquerda = False\n",
        "\n",
        "pode_atravessar = sinal_vermelho or (not veiculo_direita and not veiculo_esquerda)\n",
        "\n",
        "print(\"Sinal vermelho:\", sinal_vermelho)\n",
        "print(\"Veículo à direita:\", veiculo_direita)\n",
        "print(\"Veículo à esquerda:\", veiculo_esquerda)\n",
        "print(\"Pode atravessar?\", pode_atravessar)\n",
        "\n"
      ],
      "metadata": {
        "id": "yuF3xqCTwIaR",
        "outputId": "d54d0318-d524-4ad2-a68b-2c626d8833a0",
        "colab": {
          "base_uri": "https://localhost:8080/"
        }
      },
      "execution_count": null,
      "outputs": [
        {
          "output_type": "stream",
          "name": "stdout",
          "text": [
            "Sinal vermelho: False\n",
            "Veículo à direita: False\n",
            "Veículo à esquerda: False\n",
            "Pode atravessar? True\n"
          ]
        }
      ]
    },
    {
      "cell_type": "markdown",
      "source": [
        "# **`Type e Casting`**"
      ],
      "metadata": {
        "id": "fcSTn9wg7Qx6"
      }
    },
    {
      "cell_type": "code",
      "source": [
        "texto = \"ola\"\n",
        "numero = 2\n",
        "decimal = 1.5\n",
        "boolean = True\n",
        "print(type(texto))\n",
        "print(type(numero))\n",
        "print(type(decimal))\n",
        "print(type(boolean))"
      ],
      "metadata": {
        "id": "s2Qhj0817S4r"
      },
      "execution_count": null,
      "outputs": []
    },
    {
      "cell_type": "code",
      "source": [
        "texto1 = \"2\"\n",
        "texto2 = \"1.5\"\n",
        "numero1 = int(texto1)\n",
        "numero2 = float(texto2)\n",
        "print(type(texto1))\n",
        "print(type(texto2))\n",
        "print(type(numero1))\n",
        "print(type(numero2))\n",
        "print(numero1 + numero2)"
      ],
      "metadata": {
        "colab": {
          "base_uri": "https://localhost:8080/"
        },
        "id": "akyMDyMl7vUG",
        "outputId": "3cf9e77a-49c2-4d10-f664-c07477de35b5"
      },
      "execution_count": null,
      "outputs": [
        {
          "output_type": "stream",
          "name": "stdout",
          "text": [
            "<class 'str'>\n",
            "<class 'str'>\n",
            "<class 'int'>\n",
            "<class 'float'>\n",
            "3.5\n"
          ]
        }
      ]
    },
    {
      "cell_type": "code",
      "source": [
        "num = 21.45646\n",
        "inteiro = int(num)\n",
        "print(\"A parte inteira de %f é %d\" % (num, inteiro))"
      ],
      "metadata": {
        "id": "bJVQgRHh8SE1"
      },
      "execution_count": null,
      "outputs": []
    },
    {
      "cell_type": "code",
      "source": [
        "texto = \"O número é: \"\n",
        "numero = 10.3\n",
        "numero_em_string = str(numero)\n",
        "print(texto, numero_em_string)\n",
        "print(type(numero_em_string))"
      ],
      "metadata": {
        "id": "BcmAV_ed86QH"
      },
      "execution_count": null,
      "outputs": []
    },
    {
      "cell_type": "code",
      "source": [
        "numero = 123\n",
        "texto = str(numero)\n",
        "numero_de_digitos = len(texto)\n",
        "print(\"O número %s tem %d digitos \" % (texto,numero_de_digitos))"
      ],
      "metadata": {
        "colab": {
          "base_uri": "https://localhost:8080/"
        },
        "id": "NDgAsAOX9fhn",
        "outputId": "2acc2003-124e-47f7-bc55-5e3589490e4f"
      },
      "execution_count": null,
      "outputs": [
        {
          "output_type": "stream",
          "name": "stdout",
          "text": [
            "O número 123 tem 3 digitos \n"
          ]
        }
      ]
    },
    {
      "cell_type": "code",
      "source": [
        "vazio = None\n",
        "numero_um = 15\n",
        "numero_zero = 0\n",
        "texto = \"Texto\"\n",
        "texto_vazio = \"\"\n",
        "decimal_zero = 0.0\n",
        "decimal = 3.5\n",
        "\n",
        "print(\"Variável tem valor: \", bool(vazio))\n",
        "\n",
        "print(\"Número tem valor: \", bool(numero_um))\n",
        "print(\"Número tem valor: \", bool(numero_zero))\n",
        "\n",
        "print(\"String tem conteúdo: \", bool(texto))\n",
        "print(\"String tem conteúdo: \", bool(texto_vazio))\n",
        "\n",
        "print(\"Float tem valor: \", bool(decimal_zero))\n",
        "print(\"Float tem valor: \", bool(decimal))"
      ],
      "metadata": {
        "colab": {
          "base_uri": "https://localhost:8080/"
        },
        "id": "zKnGnuCe9xjX",
        "outputId": "b9c032ba-ac75-4ecb-e1e9-20275f6b2956"
      },
      "execution_count": null,
      "outputs": [
        {
          "output_type": "stream",
          "name": "stdout",
          "text": [
            "Variável tem valor:  False\n",
            "Número tem valor:  True\n",
            "Número tem valor:  False\n",
            "String tem conteúdo:  True\n",
            "String tem conteúdo:  False\n",
            "Float tem valor:  False\n",
            "Float tem valor:  True\n"
          ]
        }
      ]
    },
    {
      "cell_type": "markdown",
      "source": [
        "# **Atividades**\n",
        "\n",
        "1 - Crie um programa que possui uma variável do “tipo string” contendo um número que indique quanto você tem no banco. Em seguida desconte mil deste valor e mostre na saída do programa.\n",
        "\n",
        "2 - Crie um programa que indique se seu saldo bancário está zerado (valor lógico). Declare uma variável para guardar seu saldo bancário.\n",
        "\n",
        "3 - Crie um programa que contenha sua altura, mas deve somente mostrar a parte inteira de sua altura na saída do programa, pois queremos uma estimativa."
      ],
      "metadata": {
        "id": "hDkCHkwW_RNp"
      }
    },
    {
      "cell_type": "code",
      "source": [
        "'''\n",
        "Crie um programa que possui uma variável do “tipo string” contendo um\n",
        "número que indique quanto você tem no banco. Em seguida desconte\n",
        "mil deste valor e mostre na saída do programa.\n",
        "'''\n",
        "\n",
        "saldo = \"10000\"\n",
        "saldo_casting = int(saldo)\n",
        "print(saldo_casting)\n",
        "saldo_final = saldo_casting - 1000\n",
        "print(saldo_final)\n"
      ],
      "metadata": {
        "colab": {
          "base_uri": "https://localhost:8080/"
        },
        "id": "7lxvec8t_ad6",
        "outputId": "af508a91-aad8-433d-ee61-df0ef2cd232a"
      },
      "execution_count": null,
      "outputs": [
        {
          "output_type": "stream",
          "name": "stdout",
          "text": [
            "10000\n",
            "9000\n"
          ]
        }
      ]
    },
    {
      "cell_type": "code",
      "source": [
        "'''\n",
        " Crie um programa que indique se seu saldo bancário está zerado (valor lógico).\n",
        " Declare uma variável para guardar seu saldo bancário.\n",
        "'''\n",
        "saldo = 0\n",
        "saldo_zerado = (saldo == 0)\n",
        "print(\"Meu saldo está zerado?\", saldo_zerado)\n"
      ],
      "metadata": {
        "colab": {
          "base_uri": "https://localhost:8080/"
        },
        "id": "wVD7M5PiALmz",
        "outputId": "a5f74100-086b-4fa3-e712-6c9b0646fb28"
      },
      "execution_count": null,
      "outputs": [
        {
          "output_type": "stream",
          "name": "stdout",
          "text": [
            "Meu saldo está zerado? True\n"
          ]
        }
      ]
    },
    {
      "cell_type": "code",
      "source": [
        "'''\n",
        "Crie um programa que contenha sua altura, mas deve somente mostrar a parte inteira de sua altura na saída do programa, pois queremos uma estimativa\n",
        "'''\n",
        "altura = 1.80\n",
        "parte_inteira = int(altura)\n",
        "print(\"Minha altura estimada (parte inteira):\", parte_inteira)\n"
      ],
      "metadata": {
        "colab": {
          "base_uri": "https://localhost:8080/"
        },
        "id": "4tr7rvUTAwqB",
        "outputId": "f0c90b4d-e14a-496c-e777-d40d16e14098"
      },
      "execution_count": null,
      "outputs": [
        {
          "output_type": "stream",
          "name": "stdout",
          "text": [
            "Minha altura estimada (parte inteira): 1\n"
          ]
        }
      ]
    },
    {
      "cell_type": "markdown",
      "source": [
        "# [**Lendo Entradas do Usuário**](https://)"
      ],
      "metadata": {
        "id": "Ku6mEXqOJwSy"
      }
    },
    {
      "cell_type": "code",
      "source": [
        "valor_escrito = input(\"Digite algo: \")\n",
        "print(valor_escrito)"
      ],
      "metadata": {
        "id": "4QXZgp-cKCZL",
        "outputId": "bd4c390f-3b5b-4edb-e09c-146c6006eedc",
        "colab": {
          "base_uri": "https://localhost:8080/"
        }
      },
      "execution_count": null,
      "outputs": [
        {
          "output_type": "stream",
          "name": "stdout",
          "text": [
            "Digite algo: 50\n",
            "50\n"
          ]
        }
      ]
    },
    {
      "cell_type": "code",
      "source": [
        "meu_nome = input(\"Digite seu nome: \")\n",
        "print(\"Olá,\", meu_nome)"
      ],
      "metadata": {
        "id": "jbHc1Sk1KkAE"
      },
      "execution_count": null,
      "outputs": []
    },
    {
      "cell_type": "code",
      "source": [
        "dia = input(\"Insira o dia: \")\n",
        "mes = input(\"Insira o mês: \")\n",
        "ano = input(\"Insira o ano: \")\n",
        "print(\"A data inserida for %s/%s/%s\"%(dia, mes, ano))"
      ],
      "metadata": {
        "id": "pug2AduLKoiw",
        "outputId": "753a9628-c166-4978-be45-5f1d606def88",
        "colab": {
          "base_uri": "https://localhost:8080/"
        }
      },
      "execution_count": null,
      "outputs": [
        {
          "output_type": "stream",
          "name": "stdout",
          "text": [
            "Insira o dia: 25\n",
            "Insira o mês: 08\n",
            "Insira o ano: 1995\n",
            "A data inserida for 25/08/1995\n"
          ]
        }
      ]
    },
    {
      "cell_type": "code",
      "source": [
        "entrada_usuario = input(\"Digite 1 para verdadeiro e 0 para falso \")\n",
        "valor_inteiro = int(entrada_usuario)\n",
        "valor_logico = bool(valor_inteiro)\n",
        "print(\"Você escolheu: %s \" % valor_logico)\n",
        "print(\"ou ainda, você escolheu %i \" % (valor_inteiro))"
      ],
      "metadata": {
        "id": "NW6IFg-MNtDh",
        "outputId": "315dde1f-fc9f-4668-a25e-3bab00a9fd38",
        "colab": {
          "base_uri": "https://localhost:8080/"
        }
      },
      "execution_count": null,
      "outputs": [
        {
          "output_type": "stream",
          "name": "stdout",
          "text": [
            "Digite 1 para verdadeiro e 0 para falso 1\n",
            "Você escolheu: True \n",
            "ou ainda, você escolheu 1 \n"
          ]
        }
      ]
    },
    {
      "cell_type": "markdown",
      "source": [
        "# **Atividades**\n",
        "\n",
        "1 - Crie um programa que leia por input dois números e realize a divisão entre ambos. Formate o print para mostrar o cálculo completo.\n",
        "\n",
        "2 - Crie um programa que mostre o dia, mês, ano, hora, minuto e segundos inseridos pelo usuário. Formate o valor."
      ],
      "metadata": {
        "id": "I_sk1Pm9O4aa"
      }
    },
    {
      "cell_type": "code",
      "source": [
        "'''Crie um programa que leia por input dois números e realize a divisão entre\n",
        " ambos. Formate o print para mostrar o cálculo completo.'''\n",
        "\n",
        "num1 = int(input(\"Digite o primeiro número: \"))\n",
        "num2 = int(input(\"Digite o segundo número: \"))\n",
        "\n",
        "resultado = num1 / num2\n",
        "print(f\"A divisão de {num1} por {num2} é igual a {resultado}\")"
      ],
      "metadata": {
        "id": "xcjMiXYUPCpb",
        "outputId": "60931daa-3095-48b0-8082-fe718358ce60",
        "colab": {
          "base_uri": "https://localhost:8080/"
        }
      },
      "execution_count": null,
      "outputs": [
        {
          "output_type": "stream",
          "name": "stdout",
          "text": [
            "Digite o primeiro número: 5\n",
            "Digite o segundo número: 2\n",
            "A divisão de 5 por 2 é igual a 2.5\n"
          ]
        }
      ]
    },
    {
      "cell_type": "code",
      "source": [
        "'''Crie um programa que mostre o dia, mês, ano, hora, minuto e segundos\n",
        "inseridos pelo usuário. Formate o valor.'''\n",
        "\n",
        "dia = input(\"Digite o dia: \")\n",
        "mes = input(\"Digite o mês: \")\n",
        "ano = input(\"Digite o ano: \")\n",
        "hora = input(\"Digite a hora: \")\n",
        "minutos = input(\"Digite os minutos: \")\n",
        "segundos = input(\"Digite os segundos: \")\n",
        "\n",
        "print(f\"Data: {dia}/{mes}/{ano}\")\n",
        "print(f\"Hora: {hora}:{minutos}:{segundos}\")\n"
      ],
      "metadata": {
        "id": "3sI-mD6wQIrg",
        "outputId": "4e974f0c-7fcd-4c5c-b6da-adde9cee4715",
        "colab": {
          "base_uri": "https://localhost:8080/"
        }
      },
      "execution_count": null,
      "outputs": [
        {
          "output_type": "stream",
          "name": "stdout",
          "text": [
            "Digite o dia: 25\n",
            "Digite o mês: 08\n",
            "Digite o ano: 1995\n",
            "Digite a hora: 11\n",
            "Digite os minutos: 55\n",
            "Digite os segundos: 22\n",
            "Data: 25/08/1995\n",
            "Hora: 11:55:22\n"
          ]
        }
      ]
    },
    {
      "cell_type": "markdown",
      "source": [
        "# **Atribuição e Combinação de Operadores Lógicos**\n"
      ],
      "metadata": {
        "id": "ux9QTRHAB5oQ"
      }
    },
    {
      "cell_type": "markdown",
      "source": [
        "# **Atividades**\n",
        "\n",
        "1 - Crie um programa que responda se você foi aprovado numa prova. Você somente foi aprovado numa prova se sua média for maior ou igual que 7 ou se sua nota no exame for maior ou igual a 5. Leia esses valores por input.\n",
        "\n",
        "2 - Crie um programa que diga se a senha esta correta e portanto você tem acesso ao sistema. A senha devera ser salva no código, e a tentativa deve ser lida por input"
      ],
      "metadata": {
        "id": "_cHHqEwFJag1"
      }
    },
    {
      "cell_type": "code",
      "source": [
        "'''\n",
        "Crie um programa que responda se você foi aprovado numa prova. Você somente foi\n",
        "aprovado numa prova se sua média for maior ou igual que 7 ou se sua nota no\n",
        "exame for maior ou igual a 5. Leia esses valores por input.\n",
        "'''\n",
        "\n",
        "media = float(input(\"Digite sua média: \"))\n",
        "nota_exame = float(input(\"Digite sua nota no exame: \"))\n",
        "\n",
        "aprovado = (media >= 7) or (nota_exame >= 5)\n",
        "\n",
        "print(\"Você foi Aprovado, Parabéns!\" if aprovado else \"Você foi Reprovado\")\n"
      ],
      "metadata": {
        "id": "vBL9GY7pJdMc",
        "outputId": "6131cf1b-00cf-450d-da32-925d3b8a417d",
        "colab": {
          "base_uri": "https://localhost:8080/"
        }
      },
      "execution_count": null,
      "outputs": [
        {
          "output_type": "stream",
          "name": "stdout",
          "text": [
            "Digite sua média: 8\n",
            "Digite sua nota no exame: 6\n",
            "Você foi Aprovado, Parabéns!\n"
          ]
        }
      ]
    },
    {
      "cell_type": "code",
      "source": [
        "'''Crie um programa que diga se a senha esta correta e portanto você tem acesso\n",
        " ao sistema. A senha devera ser salva no código, e a tentativa deve ser lida\n",
        " por input'''\n",
        "\n",
        "senha = \"1234\"\n",
        "entrada_usuario = input(\"Digite a Senha\")\n",
        "valida_senha = entrada_usuario == senha\n",
        "print(valida_senha)"
      ],
      "metadata": {
        "id": "dWksLaYSLE-r",
        "outputId": "a4f11bb4-c139-4731-e6c0-6e019aecb734",
        "colab": {
          "base_uri": "https://localhost:8080/"
        }
      },
      "execution_count": null,
      "outputs": [
        {
          "output_type": "stream",
          "name": "stdout",
          "text": [
            "Digite a Senha1234\n",
            "True\n"
          ]
        }
      ]
    },
    {
      "cell_type": "markdown",
      "source": [
        "# **Uso de Strings**"
      ],
      "metadata": {
        "id": "Hn8ibIJdKlE7"
      }
    },
    {
      "cell_type": "code",
      "source": [
        "texto1 = \"ola\"\n",
        "texto2 = \", \"\n",
        "texto3 = \"tudo bem?\"\n",
        "print(texto1 + texto2 + texto3)"
      ],
      "metadata": {
        "id": "U1hFf1CZKsJf",
        "outputId": "408c4e80-36e2-4670-f6ad-05334f974101",
        "colab": {
          "base_uri": "https://localhost:8080/"
        }
      },
      "execution_count": 1,
      "outputs": [
        {
          "output_type": "stream",
          "name": "stdout",
          "text": [
            "ola, tudo bem?\n"
          ]
        }
      ]
    },
    {
      "cell_type": "code",
      "source": [
        "texto1 = \"olá\"\n",
        "texto1 += \", Mundo\"\n",
        "print(texto1)"
      ],
      "metadata": {
        "id": "-HofLZrqK1a3",
        "outputId": "e3b60570-6cb5-4eb6-b663-cdc7e0074875",
        "colab": {
          "base_uri": "https://localhost:8080/"
        }
      },
      "execution_count": 2,
      "outputs": [
        {
          "output_type": "stream",
          "name": "stdout",
          "text": [
            "olá, Mundo\n"
          ]
        }
      ]
    },
    {
      "cell_type": "code",
      "source": [
        "texto = \"Python é bem produtivo, \"\n",
        "texto_repetido = texto * 3\n",
        "print(texto_repetido)"
      ],
      "metadata": {
        "id": "VkKKmbAGLFdr",
        "outputId": "3b5407dd-1852-4b6c-ab09-aa413281fef8",
        "colab": {
          "base_uri": "https://localhost:8080/"
        }
      },
      "execution_count": 3,
      "outputs": [
        {
          "output_type": "stream",
          "name": "stdout",
          "text": [
            "Python é bem produtivo, Python é bem produtivo, Python é bem produtivo, \n"
          ]
        }
      ]
    },
    {
      "cell_type": "code",
      "source": [
        "texto = \"Exemplo\"\n",
        "print(texto[0])\n",
        "print(texto[1])\n"
      ],
      "metadata": {
        "id": "gQyh6yDkLPw2",
        "outputId": "a8aa002e-ea05-4aa6-a26f-c1b7fe64fc9c",
        "colab": {
          "base_uri": "https://localhost:8080/"
        }
      },
      "execution_count": 5,
      "outputs": [
        {
          "output_type": "stream",
          "name": "stdout",
          "text": [
            "E\n",
            "x\n"
          ]
        }
      ]
    },
    {
      "cell_type": "code",
      "source": [
        "texto = \"Exemplo\"\n",
        "print(texto[1:4])\n",
        "print(texto[:3])\n",
        "print(texto[:5])\n"
      ],
      "metadata": {
        "id": "YePf4nleLaVt",
        "outputId": "f7171d15-1bb0-4df3-ae90-aa112aed084a",
        "colab": {
          "base_uri": "https://localhost:8080/"
        }
      },
      "execution_count": 7,
      "outputs": [
        {
          "output_type": "stream",
          "name": "stdout",
          "text": [
            "xem\n",
            "Exe\n",
            "Exemp\n"
          ]
        }
      ]
    },
    {
      "cell_type": "code",
      "source": [
        "texto = \"carro\"\n",
        "print(texto[-4])\n",
        "print(texto[-4:])\n",
        "print(texto[-5:-2])"
      ],
      "metadata": {
        "id": "6Ly38tVCMOUN",
        "outputId": "8a4ac4d8-1511-485d-af88-84a5662dcc20",
        "colab": {
          "base_uri": "https://localhost:8080/"
        }
      },
      "execution_count": 9,
      "outputs": [
        {
          "output_type": "stream",
          "name": "stdout",
          "text": [
            "a\n",
            "arro\n",
            "car\n"
          ]
        }
      ]
    },
    {
      "cell_type": "code",
      "source": [
        "texto = \"metro\"\n",
        "print(texto[::-1])\n",
        "print(texto[3::-1])\n",
        "print(texto[3:1:-1])"
      ],
      "metadata": {
        "id": "K2F9M7woM7YX",
        "outputId": "2cf0be36-83af-44de-adae-968bbae0d920",
        "colab": {
          "base_uri": "https://localhost:8080/"
        }
      },
      "execution_count": 11,
      "outputs": [
        {
          "output_type": "stream",
          "name": "stdout",
          "text": [
            "ortem\n",
            "rtem\n",
            "rt\n"
          ]
        }
      ]
    },
    {
      "cell_type": "code",
      "source": [
        "texto = \"023\"\n",
        "texto = \"1\" + texto[1:]\n",
        "print(texto)"
      ],
      "metadata": {
        "id": "daSvZJo8NZCl",
        "outputId": "18995f3d-bcc4-42a8-80a1-4a7ab365a5a3",
        "colab": {
          "base_uri": "https://localhost:8080/"
        }
      },
      "execution_count": 12,
      "outputs": [
        {
          "output_type": "stream",
          "name": "stdout",
          "text": [
            "123\n"
          ]
        }
      ]
    },
    {
      "cell_type": "code",
      "source": [
        "texto = \"abcdefg\"\n",
        "texto = texto[:3] + texto[4:]\n",
        "print(texto)"
      ],
      "metadata": {
        "id": "A16QAZqQNvTb",
        "outputId": "7eb8c2cf-4ce4-4a27-f741-c02d81abfbeb",
        "colab": {
          "base_uri": "https://localhost:8080/"
        }
      },
      "execution_count": 13,
      "outputs": [
        {
          "output_type": "stream",
          "name": "stdout",
          "text": [
            "abcefg\n"
          ]
        }
      ]
    },
    {
      "cell_type": "markdown",
      "source": [
        "# ***Operadores de Strings***"
      ],
      "metadata": {
        "id": "0Sq-_NE9aHdK"
      }
    },
    {
      "cell_type": "code",
      "source": [
        "texto1 = \"olá\"\n",
        "texto2 = \"olá\"\n",
        "igual = texto1 == texto2\n",
        "print(\"Textos são iguais?\", igual)"
      ],
      "metadata": {
        "id": "dIvls_xXaJ04",
        "outputId": "2dcd79c4-ac78-4552-d891-299c45a5dfe9",
        "colab": {
          "base_uri": "https://localhost:8080/"
        }
      },
      "execution_count": 14,
      "outputs": [
        {
          "output_type": "stream",
          "name": "stdout",
          "text": [
            "Textos são iguais? True\n"
          ]
        }
      ]
    },
    {
      "cell_type": "code",
      "source": [
        "texto = \"Programação\"\n",
        "print(\"a\" in texto)\n",
        "print(\"e\" in texto)\n",
        "print(\"Programa\" in texto)\n",
        "print(\"Programa\" not in texto)\n",
        "print(\"Vinte\" not in texto)\n"
      ],
      "metadata": {
        "id": "QTqFOPIna66W",
        "outputId": "8235c9e0-3cd6-454c-e7e9-2433da77133a",
        "colab": {
          "base_uri": "https://localhost:8080/"
        }
      },
      "execution_count": 15,
      "outputs": [
        {
          "output_type": "stream",
          "name": "stdout",
          "text": [
            "True\n",
            "False\n",
            "True\n",
            "False\n"
          ]
        }
      ]
    },
    {
      "cell_type": "markdown",
      "source": [
        "# **Atividades**\n",
        "\n",
        "1 - Crie uma única string que contém seu nome e sobrenome, em seguida use o slicing para separar o nome em uma variável e o seu sobrenome em outra. Printe esses valores.\n",
        "\n",
        "2 - Leia uma string através do input e retire o ultimo caractere.\n",
        "\n",
        "3 - Faça um programa que leia uma string através do input e diga se ela possui uma vogal.\n",
        "\n",
        "4 - Faça um programa que insira a palavra 'ABC' na primeira posição de uma string lida por input."
      ],
      "metadata": {
        "id": "aZK-yNAEcQqO"
      }
    },
    {
      "cell_type": "code",
      "source": [
        "'''1 - Crie uma única string que contém seu nome e sobrenome, em seguida use o\n",
        "slicing para separar o nome em uma variável e o seu '''\n",
        "\n",
        "nome_sobrenome = \"Luan Felipe Rodrigues Sanches\""
      ],
      "metadata": {
        "id": "u6gOVgUkIgyx"
      },
      "execution_count": null,
      "outputs": []
    }
  ]
}