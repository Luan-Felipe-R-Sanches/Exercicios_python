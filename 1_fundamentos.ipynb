{
  "nbformat": 4,
  "nbformat_minor": 0,
  "metadata": {
    "colab": {
      "provenance": [],
      "authorship_tag": "ABX9TyPmXA2lIN49le0n8Gtk2OA7",
      "include_colab_link": true
    },
    "kernelspec": {
      "name": "python3",
      "display_name": "Python 3"
    },
    "language_info": {
      "name": "python"
    }
  },
  "cells": [
    {
      "cell_type": "markdown",
      "metadata": {
        "id": "view-in-github",
        "colab_type": "text"
      },
      "source": [
        "<a href=\"https://colab.research.google.com/github/Luan-Felipe-R-Sanches/Exercicios_python/blob/main/1_fundamentos.ipynb\" target=\"_parent\"><img src=\"https://colab.research.google.com/assets/colab-badge.svg\" alt=\"Open In Colab\"/></a>"
      ]
    },
    {
      "cell_type": "code",
      "execution_count": null,
      "metadata": {
        "id": "LOqGV3a-nK2-"
      },
      "outputs": [],
      "source": [
        "# Comentário"
      ]
    },
    {
      "cell_type": "code",
      "source": [
        "'''\n",
        "Comentario\n",
        "Comentario\n",
        "'''"
      ],
      "metadata": {
        "id": "JfXUHCHvneFf"
      },
      "execution_count": null,
      "outputs": []
    },
    {
      "cell_type": "code",
      "source": [
        "print(\"Olá mundo\")\n",
        "print(10)\n",
        "print(20.5)"
      ],
      "metadata": {
        "colab": {
          "base_uri": "https://localhost:8080/"
        },
        "id": "VJXMnBU7njdt",
        "outputId": "451c82fe-cb80-4fc6-f017-a1f7c7a43627"
      },
      "execution_count": 1,
      "outputs": [
        {
          "output_type": "stream",
          "name": "stdout",
          "text": [
            "Olá mundo\n",
            "10\n",
            "20.5\n"
          ]
        }
      ]
    },
    {
      "cell_type": "code",
      "source": [
        "print(\"Maça\", 20, 30.45)"
      ],
      "metadata": {
        "colab": {
          "base_uri": "https://localhost:8080/"
        },
        "id": "LHsNf-mNny7B",
        "outputId": "4d9f8c9d-ca39-437d-a70f-81cfcec18336"
      },
      "execution_count": 2,
      "outputs": [
        {
          "output_type": "stream",
          "name": "stdout",
          "text": [
            "Maça 20 30.45\n"
          ]
        }
      ]
    },
    {
      "cell_type": "code",
      "source": [
        "print(\"Maça\", \"Pera\",\"Uva\", sep=' - ')"
      ],
      "metadata": {
        "colab": {
          "base_uri": "https://localhost:8080/"
        },
        "id": "EWe9dytWn5i0",
        "outputId": "007e3cec-28e8-4781-fb76-e50a5aeb5c32"
      },
      "execution_count": 4,
      "outputs": [
        {
          "output_type": "stream",
          "name": "stdout",
          "text": [
            "Maça - Pera - Uva\n"
          ]
        }
      ]
    },
    {
      "cell_type": "code",
      "source": [
        "print(\"Maça\", \"Pera\", end = ' Fim ', sep=' ')"
      ],
      "metadata": {
        "colab": {
          "base_uri": "https://localhost:8080/"
        },
        "id": "cY2RYxrYoH58",
        "outputId": "982258fd-f686-42e4-b8fe-c9c76c4e4597"
      },
      "execution_count": 5,
      "outputs": [
        {
          "output_type": "stream",
          "name": "stdout",
          "text": [
            "Maça Pera Fim "
          ]
        }
      ]
    },
    {
      "cell_type": "code",
      "source": [
        "print(\"Este é um texto longo, \\n eu quero quebrar a linha\")"
      ],
      "metadata": {
        "colab": {
          "base_uri": "https://localhost:8080/"
        },
        "id": "uV8WAg8LoVS6",
        "outputId": "15952e3b-ec58-4361-86c1-b4e91390cc27"
      },
      "execution_count": 6,
      "outputs": [
        {
          "output_type": "stream",
          "name": "stdout",
          "text": [
            "Este é um texto longo, \n",
            " eu quero quebrar a linha\n"
          ]
        }
      ]
    },
    {
      "cell_type": "code",
      "source": [
        "print(\"Maça\", \"Pera\", sep='\\n')"
      ],
      "metadata": {
        "colab": {
          "base_uri": "https://localhost:8080/"
        },
        "id": "ipas7OhOodeK",
        "outputId": "ee1f520e-c6cb-41e5-f129-050e033611d2"
      },
      "execution_count": 7,
      "outputs": [
        {
          "output_type": "stream",
          "name": "stdout",
          "text": [
            "Maça\n",
            "Pera\n"
          ]
        }
      ]
    },
    {
      "cell_type": "code",
      "source": [
        "print(\"A pontuação total de de %s foi %s pontos\" % (\"Luan\",\"10\"))"
      ],
      "metadata": {
        "colab": {
          "base_uri": "https://localhost:8080/"
        },
        "id": "5VCKgcdrolsO",
        "outputId": "c530e794-ca50-414f-9d25-19fea2759baa"
      },
      "execution_count": 9,
      "outputs": [
        {
          "output_type": "stream",
          "name": "stdout",
          "text": [
            "A pontuação total de de Luan foi 10 pontos\n"
          ]
        }
      ]
    },
    {
      "cell_type": "code",
      "source": [
        "print(\"A pontuação total de {} foi {} pontos\".format(\"Luan\", \"10\"))"
      ],
      "metadata": {
        "colab": {
          "base_uri": "https://localhost:8080/"
        },
        "id": "gXjn2tiAo0Cd",
        "outputId": "bda5b05e-ed47-424f-b7f4-c64b426a225c"
      },
      "execution_count": 10,
      "outputs": [
        {
          "output_type": "stream",
          "name": "stdout",
          "text": [
            "A pontuação total de Luan foi 10 pontos\n"
          ]
        }
      ]
    },
    {
      "cell_type": "code",
      "source": [
        "print(\"A pontuação total de\" + \" Luan\" + \" foi\" + \" 10\" + \" pontos\")"
      ],
      "metadata": {
        "colab": {
          "base_uri": "https://localhost:8080/"
        },
        "id": "2C3xpSQBpRJl",
        "outputId": "fcddaa12-d68e-4cdb-d93d-f88469f36b87"
      },
      "execution_count": 12,
      "outputs": [
        {
          "output_type": "stream",
          "name": "stdout",
          "text": [
            "A pontuação total de Luan foi 10 pontos\n"
          ]
        }
      ]
    },
    {
      "cell_type": "code",
      "source": [
        "# Atividades\n",
        "'''\n",
        "1 - Realize o print do seu nome completo, sua idade e sua altura utilizando\n",
        "um print para cada valor.\n",
        "2 - Realize o print do seu nome completo, sua idade e sua altura utilizando\n",
        "apenas um print para todos valores.\n",
        "3 - Realize o print de 3 números de sua escolha em um mesmo print,\n",
        "mas separados pelo caractere '-'.\n",
        "'''\n",
        "\n",
        "print(\"Luan\")\n",
        "print(29)\n",
        "print(1.80)\n",
        "\n",
        "print(\"Luan\", 29, 1.80)\n",
        "\n",
        "print(30, 50, 88, sep='-')\n"
      ],
      "metadata": {
        "colab": {
          "base_uri": "https://localhost:8080/"
        },
        "id": "mjsdt6_sqCOm",
        "outputId": "5096824f-3003-49ab-e9d2-31adde56de92"
      },
      "execution_count": 16,
      "outputs": [
        {
          "output_type": "stream",
          "name": "stdout",
          "text": [
            "Luan\n",
            "29\n",
            "1.8\n",
            "Luan 29 1.8\n",
            "30-50-88\n"
          ]
        }
      ]
    }
  ]
}