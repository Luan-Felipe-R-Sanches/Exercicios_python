{
  "nbformat": 4,
  "nbformat_minor": 0,
  "metadata": {
    "colab": {
      "provenance": [],
      "authorship_tag": "ABX9TyMeBhTSDGK9Gs83H69+7NYb",
      "include_colab_link": true
    },
    "kernelspec": {
      "name": "python3",
      "display_name": "Python 3"
    },
    "language_info": {
      "name": "python"
    }
  },
  "cells": [
    {
      "cell_type": "markdown",
      "metadata": {
        "id": "view-in-github",
        "colab_type": "text"
      },
      "source": [
        "<a href=\"https://colab.research.google.com/github/Luan-Felipe-R-Sanches/Exercicios_python/blob/main/2_estrutura_progranacao.ipynb\" target=\"_parent\"><img src=\"https://colab.research.google.com/assets/colab-badge.svg\" alt=\"Open In Colab\"/></a>"
      ]
    },
    {
      "cell_type": "markdown",
      "source": [
        "# **IF**"
      ],
      "metadata": {
        "id": "mbdQxQbwYDa0"
      }
    },
    {
      "cell_type": "code",
      "source": [
        "print(\"Isto está fora dos ifs\")\n",
        "if(True):\n",
        "  print(\"Este código vai ser executado\")\n",
        "print(\"Isto esta fora dos ifs\")\n",
        "\n",
        "if(False):\n",
        "  print(\"Este código nao vai ser executado\")\n",
        "print(\"Isto esta fora dos ifs\")"
      ],
      "metadata": {
        "colab": {
          "base_uri": "https://localhost:8080/"
        },
        "id": "kSZXjurMYGaM",
        "outputId": "bd4a6c61-4eac-4d6d-cbd8-3362badd1422"
      },
      "execution_count": null,
      "outputs": [
        {
          "output_type": "stream",
          "name": "stdout",
          "text": [
            "Isto está fora dos ifs\n",
            "Este código vai ser executado\n",
            "Isto esta fora dos ifs\n",
            "Isto esta fora dos ifs\n"
          ]
        }
      ]
    },
    {
      "cell_type": "code",
      "source": [
        "if (True):\n",
        "  pass"
      ],
      "metadata": {
        "id": "Da6HSAEGY1D6"
      },
      "execution_count": null,
      "outputs": []
    },
    {
      "cell_type": "code",
      "source": [
        "valor1 = 10\n",
        "valor2 = 20\n",
        "sao_iguais = (valor1 == valor2)\n",
        "if sao_iguais:\n",
        "  print(\"Os valores são iguais\")"
      ],
      "metadata": {
        "id": "3U40w8MIY7Ou"
      },
      "execution_count": null,
      "outputs": []
    },
    {
      "cell_type": "code",
      "source": [
        "valor1 = 10\n",
        "valor2 = 10\n",
        "sao_iguais = (valor1 == valor2)\n",
        "if sao_iguais:\n",
        "  print(\"Os valores são iguais\")\n",
        "  print(\"Os valores são iguais parte II\")"
      ],
      "metadata": {
        "colab": {
          "base_uri": "https://localhost:8080/"
        },
        "id": "BykStDu9ZJiD",
        "outputId": "0a018f88-6dd6-4cd8-b33b-d8bd01088932"
      },
      "execution_count": null,
      "outputs": [
        {
          "output_type": "stream",
          "name": "stdout",
          "text": [
            "Os valores são iguais\n",
            "Os valores são iguais parte II\n"
          ]
        }
      ]
    },
    {
      "cell_type": "code",
      "source": [
        "valor1 = 10\n",
        "valor2 = 10\n",
        "if valor1 == valor2 : print(\"Os valores são iguais\")\n"
      ],
      "metadata": {
        "colab": {
          "base_uri": "https://localhost:8080/"
        },
        "id": "UaTXw72uZSCU",
        "outputId": "fd3ce6c2-871a-418d-96c4-a4b579cd53c9"
      },
      "execution_count": null,
      "outputs": [
        {
          "output_type": "stream",
          "name": "stdout",
          "text": [
            "Os valores são iguais\n"
          ]
        }
      ]
    },
    {
      "cell_type": "code",
      "source": [
        "if (10 != 20):\n",
        "  print(\"Os valores são diferentes 1\")\n",
        "\n",
        "if (10 != 10):\n",
        "  print(\"Os valores são diferentes 2\")\n",
        "\n",
        "if(\"ola mundo\" != \"olá mundo\"):\n",
        "  print(\"Os valores são diferentes 3\")"
      ],
      "metadata": {
        "colab": {
          "base_uri": "https://localhost:8080/"
        },
        "id": "9bjk-VONZbzx",
        "outputId": "9181cac4-a354-42c2-99f8-4f78d3ac86e8"
      },
      "execution_count": null,
      "outputs": [
        {
          "output_type": "stream",
          "name": "stdout",
          "text": [
            "Os valores são diferentes 1\n",
            "Os valores são diferentes 3\n"
          ]
        }
      ]
    },
    {
      "cell_type": "code",
      "source": [
        "numero = 11\n",
        "if (numero > 10):\n",
        "  print(\"O numero é maior que 10\")"
      ],
      "metadata": {
        "colab": {
          "base_uri": "https://localhost:8080/"
        },
        "id": "wLm3SoOjZtX8",
        "outputId": "1a7f3f2a-f096-435e-c751-0996702e2173"
      },
      "execution_count": null,
      "outputs": [
        {
          "output_type": "stream",
          "name": "stdout",
          "text": [
            "O numero é maior que 10\n"
          ]
        }
      ]
    },
    {
      "cell_type": "code",
      "source": [
        "nome = input(\"Digite seu nome: \")\n",
        "if \"a\" in nome:\n",
        "  print(\"Possui a letra \\'a'\")"
      ],
      "metadata": {
        "colab": {
          "base_uri": "https://localhost:8080/"
        },
        "id": "bqAPECfLZ6Qx",
        "outputId": "4215ce93-5005-44fb-d95e-3f432a1886c6"
      },
      "execution_count": null,
      "outputs": [
        {
          "name": "stdout",
          "output_type": "stream",
          "text": [
            "Digite seu nome: Irene\n"
          ]
        }
      ]
    },
    {
      "cell_type": "code",
      "source": [
        "nome = input(\"Digite seu nome: \").lower()\n",
        "possui_vogal = (\"a\" in nome) or (\"e\" in nome) or (\"i\" in nome) or (\"o\" in nome) or (\"u\" in nome)\n",
        "\n",
        "if possui_vogal:\n",
        "    print(\"Possui vogal\")\n",
        "else:\n",
        "    print(\"Não possui vogal\")\n"
      ],
      "metadata": {
        "colab": {
          "base_uri": "https://localhost:8080/"
        },
        "id": "DztjkRgiaEzh",
        "outputId": "02279a3b-0b5f-4f61-9f12-db7555372670"
      },
      "execution_count": null,
      "outputs": [
        {
          "output_type": "stream",
          "name": "stdout",
          "text": [
            "Digite seu nome: pkw\n",
            "Não possui vogal\n"
          ]
        }
      ]
    },
    {
      "cell_type": "code",
      "source": [
        "numero = 10\n",
        "if (numero >= 10):\n",
        "  print(\"O numero é maior ou igual que 10\")\n",
        "  print(\"------\")\n",
        "else:\n",
        "  print(\"O numero é menor ou igual a 10\")\n",
        "  print(\"*****\")\n",
        "print(\"Fim\")"
      ],
      "metadata": {
        "colab": {
          "base_uri": "https://localhost:8080/"
        },
        "id": "0H08qFiCVOVP",
        "outputId": "44ebb0e7-5517-4755-b8da-e04ac14cc6de"
      },
      "execution_count": 1,
      "outputs": [
        {
          "output_type": "stream",
          "name": "stdout",
          "text": [
            "O numero é maior ou igual que 10\n",
            "------\n",
            "Fim\n"
          ]
        }
      ]
    },
    {
      "cell_type": "code",
      "source": [
        "numero = 10\n",
        "if numero % 2 == 0:\n",
        "  print(\"O numero é par\")\n",
        "else:\n",
        "  print(\"O numero é impar\")"
      ],
      "metadata": {
        "id": "lIx5rRWWVjvQ"
      },
      "execution_count": null,
      "outputs": []
    },
    {
      "cell_type": "code",
      "source": [
        "valor = 5\n",
        "if valor >= 0 and valor < 10:\n",
        "  print(valor)\n",
        "else:\n",
        "  print(\"Valor invalido\")"
      ],
      "metadata": {
        "colab": {
          "base_uri": "https://localhost:8080/"
        },
        "id": "WHotwdr2V12H",
        "outputId": "24c8fd3b-0da7-4e3d-a93f-9e6a43b144d1"
      },
      "execution_count": 2,
      "outputs": [
        {
          "output_type": "stream",
          "name": "stdout",
          "text": [
            "5\n"
          ]
        }
      ]
    },
    {
      "cell_type": "code",
      "source": [
        "texto = \"ab\"\n",
        "if len(texto) == 1:\n",
        "  print(\"Tem 1 caractere\")\n",
        "else:\n",
        "  print(\"não que 1 caractere\")"
      ],
      "metadata": {
        "colab": {
          "base_uri": "https://localhost:8080/"
        },
        "id": "x7yDyH3EWEin",
        "outputId": "d0f2296c-9c3c-42e5-d436-a25fa92d2cf7"
      },
      "execution_count": 4,
      "outputs": [
        {
          "output_type": "stream",
          "name": "stdout",
          "text": [
            "não que 1 caractere\n"
          ]
        }
      ]
    },
    {
      "cell_type": "code",
      "source": [
        "numero = 1\n",
        "if numero == 1 or numero == 0:\n",
        "  print(\"é 1 ou 0\")\n",
        ""
      ],
      "metadata": {
        "colab": {
          "base_uri": "https://localhost:8080/"
        },
        "id": "PKUNocjaWuzu",
        "outputId": "601ebd4f-e049-47e4-9abb-2f3efafe96b5"
      },
      "execution_count": 5,
      "outputs": [
        {
          "output_type": "stream",
          "name": "stdout",
          "text": [
            "é 1 ou 0\n"
          ]
        }
      ]
    },
    {
      "cell_type": "code",
      "source": [
        "numero = -10\n",
        "condicao = numero > 10 or numero < -10\n",
        "if condicao:\n",
        "  print(\"Absolutamente maior que 10\")\n",
        ""
      ],
      "metadata": {
        "id": "HuYk-9aIW3n3"
      },
      "execution_count": null,
      "outputs": []
    },
    {
      "cell_type": "code",
      "source": [
        "numero = 11\n",
        "if numero > 0:\n",
        "  print(\"Número é maior que 0\")\n",
        "  if numero > 10:\n",
        "    print(\"Número é maior que 10\")\n"
      ],
      "metadata": {
        "id": "OCVTmHdKXMOs"
      },
      "execution_count": null,
      "outputs": []
    },
    {
      "cell_type": "code",
      "source": [
        "numero = 11\n",
        "if numero < 10:\n",
        "  print(\"Menos que 10\")\n",
        "elif numero < 100:\n",
        "  print(\"Menos que 100\")\n",
        "elif numero <= 1000:\n",
        "  print(\"Menos que 1000\")\n",
        "else:\n",
        "  print(\"Nenhuma anterior\")"
      ],
      "metadata": {
        "colab": {
          "base_uri": "https://localhost:8080/"
        },
        "id": "HjAipEI_Xlw4",
        "outputId": "6e26025a-5a5d-41e6-944d-4db3e2ad2b27"
      },
      "execution_count": 6,
      "outputs": [
        {
          "output_type": "stream",
          "name": "stdout",
          "text": [
            "Menos que 100\n"
          ]
        }
      ]
    },
    {
      "cell_type": "code",
      "source": [
        "texto = \"u\"\n",
        "if texto == \"a\":\n",
        " print(\"É vogal a\")\n",
        "elif texto == \"e\":\n",
        " print(\"É vogal e\")\n",
        "elif texto == \"i\":\n",
        " print(\"É vogal i\")\n",
        "elif texto == \"o\":\n",
        " print(\"É vogal o\")\n",
        "elif texto == \"u\":\n",
        " print(\"É vogal u\")"
      ],
      "metadata": {
        "colab": {
          "base_uri": "https://localhost:8080/"
        },
        "id": "6M4yQQq8YZgT",
        "outputId": "16b4b38b-cc73-4544-b482-543e3b31637c"
      },
      "execution_count": 8,
      "outputs": [
        {
          "output_type": "stream",
          "name": "stdout",
          "text": [
            "É vogal u\n"
          ]
        }
      ]
    },
    {
      "cell_type": "code",
      "source": [
        "numero = 11\n",
        "resultado = \"par\" if numero % 2 == 0 else \"impar\"\n",
        "print(resultado)\n",
        ""
      ],
      "metadata": {
        "colab": {
          "base_uri": "https://localhost:8080/"
        },
        "id": "CyszbJ_KeoFB",
        "outputId": "24029b80-4f88-4784-c553-2f760bc09e98"
      },
      "execution_count": 10,
      "outputs": [
        {
          "output_type": "stream",
          "name": "stdout",
          "text": [
            "impar\n"
          ]
        }
      ]
    },
    {
      "cell_type": "code",
      "source": [
        "numero = 1\n",
        "resultado = \"Um\" if numero == 1 else \"Dois\" if numero == 2 else \"Outros\"\n",
        "print(resultado)"
      ],
      "metadata": {
        "id": "KB_b58WRe96I"
      },
      "execution_count": null,
      "outputs": []
    },
    {
      "cell_type": "markdown",
      "source": [
        "# **Atividades**\n",
        "\n",
        "1 - Crie um programa que receba o seu saldo bancário e o quanto você deve. Em seguida o programa deve dizer se você tem saldo positivo ou negativo.\n",
        "\n",
        "2 - Crie um programa que possui uma variável que guarde seu CPF e que guarde uma senha de sua escolha. Em seguida receba por input uma senha do usuário. Caso a senha recebida seja a correta mostre o CPF, caso não diga que a senha esta incorreta.\n",
        "\n",
        "3 - Crie um programa que fale sobre sua idade. As regras são a seguinte, você deve receber por input sua idade, se você tiver ate três anos printe que é um bebe, ate 13 anos uma criança, ate 18 anos adolescente, até 65 adulto. Em nenhum deste casos é um idoso\n",
        "\n",
        "4 - Crie um programa que receba dois números, e também receba do usuário a operação que deve ser feita, as possibilidades são soma(+), subtração (-), divisão(/) e multiplicação(*). Realize a operação escolhida sobre os dois números."
      ],
      "metadata": {
        "id": "gyAQOlfNiAGb"
      }
    },
    {
      "cell_type": "code",
      "source": [
        "'''Crie um programa que receba o seu saldo bancário e o quanto você deve.\n",
        " Em seguida o programa deve dizer se você tem saldo positivo ou negativo.'''\n",
        "\n",
        "saldo = float(input(\"Digite o seu saldo: \"))\n",
        "divida = float(input(\"Digite o valor que você deve: \"))\n",
        "\n",
        "saldo_final = saldo - divida\n",
        "\n",
        "if saldo_final > 0:\n",
        "    print(\"Saldo positivo\")\n",
        "elif saldo_final < 0:\n",
        "    print(\"Saldo negativo\")\n",
        "else:\n",
        "    print(\"Saldo zerado\")\n",
        "\n"
      ],
      "metadata": {
        "colab": {
          "base_uri": "https://localhost:8080/"
        },
        "id": "F9WTL-p_iQWN",
        "outputId": "ea5a4b2a-1ab9-44e0-db2c-2fadd42f7d94"
      },
      "execution_count": 16,
      "outputs": [
        {
          "output_type": "stream",
          "name": "stdout",
          "text": [
            "Digite o seu saldo: 1000\n",
            "Digite o valor que você deve: 2000\n",
            "Saldo negativo\n"
          ]
        }
      ]
    },
    {
      "cell_type": "code",
      "source": [
        "'''Crie um programa que possui uma variável que guarde seu CPF e que guarde uma\n",
        "senha de sua escolha. Em seguida receba por input uma\n",
        "senha do usuário. Caso a senha recebida seja a correta mostre o CPF, caso não\n",
        "diga que a senha esta incorreta.'''\n",
        "\n",
        "cpf = \"05842584100\"\n",
        "senha = \"1234\"\n",
        "\n",
        "input_senha = input(\"Digite a senha: \")\n",
        "\n",
        "if input_senha == senha:\n",
        "    print(f\"CPF: {cpf}\")\n",
        "else:\n",
        "    print(\"Senha incorreta\")"
      ],
      "metadata": {
        "colab": {
          "base_uri": "https://localhost:8080/"
        },
        "id": "L3M2k1Lbj_wH",
        "outputId": "351d8d30-bf3e-4fb9-e9a1-a72363d75f93"
      },
      "execution_count": 17,
      "outputs": [
        {
          "output_type": "stream",
          "name": "stdout",
          "text": [
            "Digite a senha: 1234\n",
            "CPF: 05842584100\n"
          ]
        }
      ]
    },
    {
      "cell_type": "code",
      "source": [
        "'''Crie um programa que fale sobre sua idade. As regras são a seguinte, você\n",
        "deve receber por input sua idade, se você tiver ate três anos printe que é um\n",
        "bebe, ate 13 anos uma criança, ate 18 anos adolescente, até 65 adulto.\n",
        "Em nenhum deste casos é um idoso'''\n",
        "\n",
        "idade = int(input(\"Digite sua idade: \"))\n",
        "if idade <= 3:\n",
        "  print(\"bebe\")\n",
        "elif idade <= 13:\n",
        "  print(\"criança\")\n",
        "elif idade < 18:\n",
        "  print(\"adolecente\")\n",
        "elif idade < 65:\n",
        "  print(\"adulto\")\n",
        "else:\n",
        "  print(\"idoso\")\n"
      ],
      "metadata": {
        "colab": {
          "base_uri": "https://localhost:8080/"
        },
        "id": "ZAcfH2V1mSZr",
        "outputId": "958e059c-dc23-4367-de0f-a1d2fe800021"
      },
      "execution_count": 23,
      "outputs": [
        {
          "output_type": "stream",
          "name": "stdout",
          "text": [
            "Digite sua idade: 19\n",
            "adulto\n"
          ]
        }
      ]
    },
    {
      "cell_type": "code",
      "source": [
        "'''Crie um programa que receba dois números, e também receba do usuário a\n",
        "operação que deve ser feita, as possibilidades são soma(+), subtração (-),\n",
        "divisão(/) e multiplicação(*). Realize a operação\n",
        "escolhida sobre os dois números.'''\n",
        "\n",
        "num1 = float(input(\"Digite o primeiro número: \"))\n",
        "num2 = float(input(\"Digite o segundo número: \"))\n",
        "operacao = input(\"Digite a operação (+, -, /, *): \")\n",
        "\n",
        "if operacao == \"+\":\n",
        "    resultado = num1 + num2\n",
        "elif operacao == \"-\":\n",
        "    resultado = num1 - num2\n",
        "elif operacao == \"/\":\n",
        "    resultado = num1 / num2\n",
        "elif operacao == \"*\":\n",
        "    resultado = num1 * num\n",
        "print(resultado)"
      ],
      "metadata": {
        "colab": {
          "base_uri": "https://localhost:8080/"
        },
        "id": "NNhAIq43qscx",
        "outputId": "5136310b-894d-4b65-928a-23e4c1be0d34"
      },
      "execution_count": 25,
      "outputs": [
        {
          "output_type": "stream",
          "name": "stdout",
          "text": [
            "Digite o primeiro número: 10\n",
            "Digite o segundo número: 2\n",
            "Digite a operação (+, -, /, *): /\n",
            "5.0\n"
          ]
        }
      ]
    }
  ]
}