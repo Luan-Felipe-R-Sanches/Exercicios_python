{
  "nbformat": 4,
  "nbformat_minor": 0,
  "metadata": {
    "colab": {
      "provenance": [],
      "authorship_tag": "ABX9TyPbp9cIEe9MQ0wEH33TsM/A",
      "include_colab_link": true
    },
    "kernelspec": {
      "name": "python3",
      "display_name": "Python 3"
    },
    "language_info": {
      "name": "python"
    }
  },
  "cells": [
    {
      "cell_type": "markdown",
      "metadata": {
        "id": "view-in-github",
        "colab_type": "text"
      },
      "source": [
        "<a href=\"https://colab.research.google.com/github/Luan-Felipe-R-Sanches/Exercicios_python/blob/main/2_estrutura_progranacao.ipynb\" target=\"_parent\"><img src=\"https://colab.research.google.com/assets/colab-badge.svg\" alt=\"Open In Colab\"/></a>"
      ]
    },
    {
      "cell_type": "markdown",
      "source": [
        "# **IF**"
      ],
      "metadata": {
        "id": "mbdQxQbwYDa0"
      }
    },
    {
      "cell_type": "code",
      "source": [
        "print(\"Isto está fora dos ifs\")\n",
        "if(True):\n",
        "  print(\"Este código vai ser executado\")\n",
        "print(\"Isto esta fora dos ifs\")\n",
        "\n",
        "if(False):\n",
        "  print(\"Este código nao vai ser executado\")\n",
        "print(\"Isto esta fora dos ifs\")"
      ],
      "metadata": {
        "colab": {
          "base_uri": "https://localhost:8080/"
        },
        "id": "kSZXjurMYGaM",
        "outputId": "bd4a6c61-4eac-4d6d-cbd8-3362badd1422"
      },
      "execution_count": null,
      "outputs": [
        {
          "output_type": "stream",
          "name": "stdout",
          "text": [
            "Isto está fora dos ifs\n",
            "Este código vai ser executado\n",
            "Isto esta fora dos ifs\n",
            "Isto esta fora dos ifs\n"
          ]
        }
      ]
    },
    {
      "cell_type": "code",
      "source": [
        "if (True):\n",
        "  pass"
      ],
      "metadata": {
        "id": "Da6HSAEGY1D6"
      },
      "execution_count": null,
      "outputs": []
    },
    {
      "cell_type": "code",
      "source": [
        "valor1 = 10\n",
        "valor2 = 20\n",
        "sao_iguais = (valor1 == valor2)\n",
        "if sao_iguais:\n",
        "  print(\"Os valores são iguais\")"
      ],
      "metadata": {
        "id": "3U40w8MIY7Ou"
      },
      "execution_count": null,
      "outputs": []
    },
    {
      "cell_type": "code",
      "source": [
        "valor1 = 10\n",
        "valor2 = 10\n",
        "sao_iguais = (valor1 == valor2)\n",
        "if sao_iguais:\n",
        "  print(\"Os valores são iguais\")\n",
        "  print(\"Os valores são iguais parte II\")"
      ],
      "metadata": {
        "colab": {
          "base_uri": "https://localhost:8080/"
        },
        "id": "BykStDu9ZJiD",
        "outputId": "0a018f88-6dd6-4cd8-b33b-d8bd01088932"
      },
      "execution_count": null,
      "outputs": [
        {
          "output_type": "stream",
          "name": "stdout",
          "text": [
            "Os valores são iguais\n",
            "Os valores são iguais parte II\n"
          ]
        }
      ]
    },
    {
      "cell_type": "code",
      "source": [
        "valor1 = 10\n",
        "valor2 = 10\n",
        "if valor1 == valor2 : print(\"Os valores são iguais\")\n"
      ],
      "metadata": {
        "colab": {
          "base_uri": "https://localhost:8080/"
        },
        "id": "UaTXw72uZSCU",
        "outputId": "fd3ce6c2-871a-418d-96c4-a4b579cd53c9"
      },
      "execution_count": null,
      "outputs": [
        {
          "output_type": "stream",
          "name": "stdout",
          "text": [
            "Os valores são iguais\n"
          ]
        }
      ]
    },
    {
      "cell_type": "code",
      "source": [
        "if (10 != 20):\n",
        "  print(\"Os valores são diferentes 1\")\n",
        "\n",
        "if (10 != 10):\n",
        "  print(\"Os valores são diferentes 2\")\n",
        "\n",
        "if(\"ola mundo\" != \"olá mundo\"):\n",
        "  print(\"Os valores são diferentes 3\")"
      ],
      "metadata": {
        "colab": {
          "base_uri": "https://localhost:8080/"
        },
        "id": "9bjk-VONZbzx",
        "outputId": "9181cac4-a354-42c2-99f8-4f78d3ac86e8"
      },
      "execution_count": null,
      "outputs": [
        {
          "output_type": "stream",
          "name": "stdout",
          "text": [
            "Os valores são diferentes 1\n",
            "Os valores são diferentes 3\n"
          ]
        }
      ]
    },
    {
      "cell_type": "code",
      "source": [
        "numero = 11\n",
        "if (numero > 10):\n",
        "  print(\"O numero é maior que 10\")"
      ],
      "metadata": {
        "colab": {
          "base_uri": "https://localhost:8080/"
        },
        "id": "wLm3SoOjZtX8",
        "outputId": "1a7f3f2a-f096-435e-c751-0996702e2173"
      },
      "execution_count": null,
      "outputs": [
        {
          "output_type": "stream",
          "name": "stdout",
          "text": [
            "O numero é maior que 10\n"
          ]
        }
      ]
    },
    {
      "cell_type": "code",
      "source": [
        "nome = input(\"Digite seu nome: \")\n",
        "if \"a\" in nome:\n",
        "  print(\"Possui a letra \\'a'\")"
      ],
      "metadata": {
        "colab": {
          "base_uri": "https://localhost:8080/"
        },
        "id": "bqAPECfLZ6Qx",
        "outputId": "4215ce93-5005-44fb-d95e-3f432a1886c6"
      },
      "execution_count": null,
      "outputs": [
        {
          "name": "stdout",
          "output_type": "stream",
          "text": [
            "Digite seu nome: Irene\n"
          ]
        }
      ]
    },
    {
      "cell_type": "code",
      "source": [
        "nome = input(\"Digite seu nome: \").lower()\n",
        "possui_vogal = (\"a\" in nome) or (\"e\" in nome) or (\"i\" in nome) or (\"o\" in nome) or (\"u\" in nome)\n",
        "\n",
        "if possui_vogal:\n",
        "    print(\"Possui vogal\")\n",
        "else:\n",
        "    print(\"Não possui vogal\")\n"
      ],
      "metadata": {
        "colab": {
          "base_uri": "https://localhost:8080/"
        },
        "id": "DztjkRgiaEzh",
        "outputId": "02279a3b-0b5f-4f61-9f12-db7555372670"
      },
      "execution_count": null,
      "outputs": [
        {
          "output_type": "stream",
          "name": "stdout",
          "text": [
            "Digite seu nome: pkw\n",
            "Não possui vogal\n"
          ]
        }
      ]
    },
    {
      "cell_type": "code",
      "source": [
        "numero = 10\n",
        "if (numero >= 10):\n",
        "  print(\"O numero é maior ou igual que 10\")\n",
        "  print(\"------\")\n",
        "else:\n",
        "  print(\"O numero é menor ou igual a 10\")\n",
        "  print(\"*****\")\n",
        "print(\"Fim\")"
      ],
      "metadata": {
        "colab": {
          "base_uri": "https://localhost:8080/"
        },
        "id": "0H08qFiCVOVP",
        "outputId": "44ebb0e7-5517-4755-b8da-e04ac14cc6de"
      },
      "execution_count": null,
      "outputs": [
        {
          "output_type": "stream",
          "name": "stdout",
          "text": [
            "O numero é maior ou igual que 10\n",
            "------\n",
            "Fim\n"
          ]
        }
      ]
    },
    {
      "cell_type": "code",
      "source": [
        "numero = 10\n",
        "if numero % 2 == 0:\n",
        "  print(\"O numero é par\")\n",
        "else:\n",
        "  print(\"O numero é impar\")"
      ],
      "metadata": {
        "id": "lIx5rRWWVjvQ"
      },
      "execution_count": null,
      "outputs": []
    },
    {
      "cell_type": "code",
      "source": [
        "valor = 5\n",
        "if valor >= 0 and valor < 10:\n",
        "  print(valor)\n",
        "else:\n",
        "  print(\"Valor invalido\")"
      ],
      "metadata": {
        "colab": {
          "base_uri": "https://localhost:8080/"
        },
        "id": "WHotwdr2V12H",
        "outputId": "24c8fd3b-0da7-4e3d-a93f-9e6a43b144d1"
      },
      "execution_count": null,
      "outputs": [
        {
          "output_type": "stream",
          "name": "stdout",
          "text": [
            "5\n"
          ]
        }
      ]
    },
    {
      "cell_type": "code",
      "source": [
        "texto = \"ab\"\n",
        "if len(texto) == 1:\n",
        "  print(\"Tem 1 caractere\")\n",
        "else:\n",
        "  print(\"não que 1 caractere\")"
      ],
      "metadata": {
        "colab": {
          "base_uri": "https://localhost:8080/"
        },
        "id": "x7yDyH3EWEin",
        "outputId": "d0f2296c-9c3c-42e5-d436-a25fa92d2cf7"
      },
      "execution_count": null,
      "outputs": [
        {
          "output_type": "stream",
          "name": "stdout",
          "text": [
            "não que 1 caractere\n"
          ]
        }
      ]
    },
    {
      "cell_type": "code",
      "source": [
        "numero = 1\n",
        "if numero == 1 or numero == 0:\n",
        "  print(\"é 1 ou 0\")\n"
      ],
      "metadata": {
        "colab": {
          "base_uri": "https://localhost:8080/"
        },
        "id": "PKUNocjaWuzu",
        "outputId": "601ebd4f-e049-47e4-9abb-2f3efafe96b5"
      },
      "execution_count": null,
      "outputs": [
        {
          "output_type": "stream",
          "name": "stdout",
          "text": [
            "é 1 ou 0\n"
          ]
        }
      ]
    },
    {
      "cell_type": "code",
      "source": [
        "numero = -10\n",
        "condicao = numero > 10 or numero < -10\n",
        "if condicao:\n",
        "  print(\"Absolutamente maior que 10\")\n"
      ],
      "metadata": {
        "id": "HuYk-9aIW3n3"
      },
      "execution_count": null,
      "outputs": []
    },
    {
      "cell_type": "code",
      "source": [
        "numero = 11\n",
        "if numero > 0:\n",
        "  print(\"Número é maior que 0\")\n",
        "  if numero > 10:\n",
        "    print(\"Número é maior que 10\")\n"
      ],
      "metadata": {
        "id": "OCVTmHdKXMOs"
      },
      "execution_count": null,
      "outputs": []
    },
    {
      "cell_type": "code",
      "source": [
        "numero = 11\n",
        "if numero < 10:\n",
        "  print(\"Menos que 10\")\n",
        "elif numero < 100:\n",
        "  print(\"Menos que 100\")\n",
        "elif numero <= 1000:\n",
        "  print(\"Menos que 1000\")\n",
        "else:\n",
        "  print(\"Nenhuma anterior\")"
      ],
      "metadata": {
        "colab": {
          "base_uri": "https://localhost:8080/"
        },
        "id": "HjAipEI_Xlw4",
        "outputId": "6e26025a-5a5d-41e6-944d-4db3e2ad2b27"
      },
      "execution_count": null,
      "outputs": [
        {
          "output_type": "stream",
          "name": "stdout",
          "text": [
            "Menos que 100\n"
          ]
        }
      ]
    },
    {
      "cell_type": "code",
      "source": [
        "texto = \"u\"\n",
        "if texto == \"a\":\n",
        " print(\"É vogal a\")\n",
        "elif texto == \"e\":\n",
        " print(\"É vogal e\")\n",
        "elif texto == \"i\":\n",
        " print(\"É vogal i\")\n",
        "elif texto == \"o\":\n",
        " print(\"É vogal o\")\n",
        "elif texto == \"u\":\n",
        " print(\"É vogal u\")"
      ],
      "metadata": {
        "colab": {
          "base_uri": "https://localhost:8080/"
        },
        "id": "6M4yQQq8YZgT",
        "outputId": "16b4b38b-cc73-4544-b482-543e3b31637c"
      },
      "execution_count": null,
      "outputs": [
        {
          "output_type": "stream",
          "name": "stdout",
          "text": [
            "É vogal u\n"
          ]
        }
      ]
    },
    {
      "cell_type": "code",
      "source": [
        "numero = 11\n",
        "resultado = \"par\" if numero % 2 == 0 else \"impar\"\n",
        "print(resultado)\n"
      ],
      "metadata": {
        "colab": {
          "base_uri": "https://localhost:8080/"
        },
        "id": "CyszbJ_KeoFB",
        "outputId": "24029b80-4f88-4784-c553-2f760bc09e98"
      },
      "execution_count": null,
      "outputs": [
        {
          "output_type": "stream",
          "name": "stdout",
          "text": [
            "impar\n"
          ]
        }
      ]
    },
    {
      "cell_type": "code",
      "source": [
        "numero = 1\n",
        "resultado = \"Um\" if numero == 1 else \"Dois\" if numero == 2 else \"Outros\"\n",
        "print(resultado)"
      ],
      "metadata": {
        "id": "KB_b58WRe96I"
      },
      "execution_count": null,
      "outputs": []
    },
    {
      "cell_type": "markdown",
      "source": [
        "# **Atividades**\n",
        "\n",
        "1 - Crie um programa que receba o seu saldo bancário e o quanto você deve. Em seguida o programa deve dizer se você tem saldo positivo ou negativo.\n",
        "\n",
        "2 - Crie um programa que possui uma variável que guarde seu CPF e que guarde uma senha de sua escolha. Em seguida receba por input uma senha do usuário. Caso a senha recebida seja a correta mostre o CPF, caso não diga que a senha esta incorreta.\n",
        "\n",
        "3 - Crie um programa que fale sobre sua idade. As regras são a seguinte, você deve receber por input sua idade, se você tiver ate três anos printe que é um bebe, ate 13 anos uma criança, ate 18 anos adolescente, até 65 adulto. Em nenhum deste casos é um idoso\n",
        "\n",
        "4 - Crie um programa que receba dois números, e também receba do usuário a operação que deve ser feita, as possibilidades são soma(+), subtração (-), divisão(/) e multiplicação(*). Realize a operação escolhida sobre os dois números."
      ],
      "metadata": {
        "id": "gyAQOlfNiAGb"
      }
    },
    {
      "cell_type": "code",
      "source": [
        "'''Crie um programa que receba o seu saldo bancário e o quanto você deve.\n",
        " Em seguida o programa deve dizer se você tem saldo positivo ou negativo.'''\n",
        "\n",
        "saldo = float(input(\"Digite o seu saldo: \"))\n",
        "divida = float(input(\"Digite o valor que você deve: \"))\n",
        "\n",
        "saldo_final = saldo - divida\n",
        "\n",
        "if saldo_final > 0:\n",
        "    print(\"Saldo positivo\")\n",
        "elif saldo_final < 0:\n",
        "    print(\"Saldo negativo\")\n",
        "else:\n",
        "    print(\"Saldo zerado\")\n",
        "\n"
      ],
      "metadata": {
        "colab": {
          "base_uri": "https://localhost:8080/"
        },
        "id": "F9WTL-p_iQWN",
        "outputId": "ea5a4b2a-1ab9-44e0-db2c-2fadd42f7d94"
      },
      "execution_count": null,
      "outputs": [
        {
          "output_type": "stream",
          "name": "stdout",
          "text": [
            "Digite o seu saldo: 1000\n",
            "Digite o valor que você deve: 2000\n",
            "Saldo negativo\n"
          ]
        }
      ]
    },
    {
      "cell_type": "code",
      "source": [
        "'''Crie um programa que possui uma variável que guarde seu CPF e que guarde uma\n",
        "senha de sua escolha. Em seguida receba por input uma\n",
        "senha do usuário. Caso a senha recebida seja a correta mostre o CPF, caso não\n",
        "diga que a senha esta incorreta.'''\n",
        "\n",
        "cpf = \"05842584100\"\n",
        "senha = \"1234\"\n",
        "\n",
        "input_senha = input(\"Digite a senha: \")\n",
        "\n",
        "if input_senha == senha:\n",
        "    print(f\"CPF: {cpf}\")\n",
        "else:\n",
        "    print(\"Senha incorreta\")"
      ],
      "metadata": {
        "colab": {
          "base_uri": "https://localhost:8080/"
        },
        "id": "L3M2k1Lbj_wH",
        "outputId": "351d8d30-bf3e-4fb9-e9a1-a72363d75f93"
      },
      "execution_count": null,
      "outputs": [
        {
          "output_type": "stream",
          "name": "stdout",
          "text": [
            "Digite a senha: 1234\n",
            "CPF: 05842584100\n"
          ]
        }
      ]
    },
    {
      "cell_type": "code",
      "source": [
        "'''Crie um programa que fale sobre sua idade. As regras são a seguinte, você\n",
        "deve receber por input sua idade, se você tiver ate três anos printe que é um\n",
        "bebe, ate 13 anos uma criança, ate 18 anos adolescente, até 65 adulto.\n",
        "Em nenhum deste casos é um idoso'''\n",
        "\n",
        "idade = int(input(\"Digite sua idade: \"))\n",
        "if idade <= 3:\n",
        "  print(\"bebe\")\n",
        "elif idade <= 13:\n",
        "  print(\"criança\")\n",
        "elif idade < 18:\n",
        "  print(\"adolecente\")\n",
        "elif idade < 65:\n",
        "  print(\"adulto\")\n",
        "else:\n",
        "  print(\"idoso\")\n"
      ],
      "metadata": {
        "colab": {
          "base_uri": "https://localhost:8080/"
        },
        "id": "ZAcfH2V1mSZr",
        "outputId": "958e059c-dc23-4367-de0f-a1d2fe800021"
      },
      "execution_count": null,
      "outputs": [
        {
          "output_type": "stream",
          "name": "stdout",
          "text": [
            "Digite sua idade: 19\n",
            "adulto\n"
          ]
        }
      ]
    },
    {
      "cell_type": "code",
      "source": [
        "'''Crie um programa que receba dois números, e também receba do usuário a\n",
        "operação que deve ser feita, as possibilidades são soma(+), subtração (-),\n",
        "divisão(/) e multiplicação(*). Realize a operação\n",
        "escolhida sobre os dois números.'''\n",
        "\n",
        "num1 = float(input(\"Digite o primeiro número: \"))\n",
        "num2 = float(input(\"Digite o segundo número: \"))\n",
        "operacao = input(\"Digite a operação (+, -, /, *): \")\n",
        "\n",
        "if operacao == \"+\":\n",
        "    resultado = num1 + num2\n",
        "elif operacao == \"-\":\n",
        "    resultado = num1 - num2\n",
        "elif operacao == \"/\":\n",
        "    resultado = num1 / num2\n",
        "elif operacao == \"*\":\n",
        "    resultado = num1 * num\n",
        "print(resultado)"
      ],
      "metadata": {
        "colab": {
          "base_uri": "https://localhost:8080/"
        },
        "id": "NNhAIq43qscx",
        "outputId": "5136310b-894d-4b65-928a-23e4c1be0d34"
      },
      "execution_count": null,
      "outputs": [
        {
          "output_type": "stream",
          "name": "stdout",
          "text": [
            "Digite o primeiro número: 10\n",
            "Digite o segundo número: 2\n",
            "Digite a operação (+, -, /, *): /\n",
            "5.0\n"
          ]
        }
      ]
    },
    {
      "cell_type": "markdown",
      "source": [
        "# **LAÇOS/LOOPS**"
      ],
      "metadata": {
        "id": "Jj1CKzRDibvC"
      }
    },
    {
      "cell_type": "code",
      "source": [
        "interacao = 10\n",
        "while (interacao > 0):\n",
        "  print(interacao)\n",
        "  interacao -= 1\n",
        "print(\"Encerrou!\")"
      ],
      "metadata": {
        "colab": {
          "base_uri": "https://localhost:8080/"
        },
        "id": "FkhX8qV9ifsO",
        "outputId": "6bde32b9-1cbf-4e01-9c7e-a05969a200b8"
      },
      "execution_count": null,
      "outputs": [
        {
          "output_type": "stream",
          "name": "stdout",
          "text": [
            "10\n",
            "9\n",
            "8\n",
            "7\n",
            "6\n",
            "5\n",
            "4\n",
            "3\n",
            "2\n",
            "1\n",
            "Encerrou\n"
          ]
        }
      ]
    },
    {
      "cell_type": "code",
      "source": [
        "indice = 10\n",
        "print(\"Programa começou\")\n",
        "while (indice >= 2):\n",
        "  resto = (indice % 2)\n",
        "  if resto == 0:\n",
        "    print(\"O número %d é par\" % (indice))\n",
        "  else:\n",
        "    print(\"O número %d é impar\" % (indice))\n",
        "  indice -= 1\n",
        "print(\"Programa terminou\")"
      ],
      "metadata": {
        "colab": {
          "base_uri": "https://localhost:8080/"
        },
        "id": "1gVp0IVSjeFn",
        "outputId": "f5b897c4-1165-48ee-d8e6-9129877219d3"
      },
      "execution_count": null,
      "outputs": [
        {
          "output_type": "stream",
          "name": "stdout",
          "text": [
            "Programa começou\n",
            "O número 10 é par\n",
            "O número 9 é impar\n",
            "O número 8 é par\n",
            "O número 7 é impar\n",
            "O número 6 é par\n",
            "O número 5 é impar\n",
            "O número 4 é par\n",
            "O número 3 é impar\n",
            "O número 2 é par\n",
            "Programa terminou\n"
          ]
        }
      ]
    },
    {
      "cell_type": "code",
      "source": [
        "soma = 0\n",
        "numeros_lidos = 0\n",
        "\n",
        "while(numeros_lidos < 5):\n",
        "  num_str = input(\"Digite um valor: \")\n",
        "  num_lido = float(num_str)\n",
        "  soma += num_lido\n",
        "  numeros_lidos += 1\n",
        "\n",
        "print(\"A soma é: %.2f\" % (soma))\n"
      ],
      "metadata": {
        "colab": {
          "base_uri": "https://localhost:8080/"
        },
        "id": "7CMYCmaWkt6u",
        "outputId": "071574f0-35ca-489d-ee75-cc6b8adf455f"
      },
      "execution_count": null,
      "outputs": [
        {
          "output_type": "stream",
          "name": "stdout",
          "text": [
            "Digite um valor: 20\n",
            "Digite um valor: 30\n",
            "Digite um valor: 40\n",
            "Digite um valor: 50\n",
            "Digite um valor: 0\n",
            "A soma é: 140.00\n"
          ]
        }
      ]
    },
    {
      "cell_type": "code",
      "source": [
        "texto = \"Olá 123 _\"\n",
        "indice = 0\n",
        "while (indice < len(texto)):\n",
        "  print(texto[indice])\n",
        "  indice += 1\n",
        "\n"
      ],
      "metadata": {
        "colab": {
          "base_uri": "https://localhost:8080/"
        },
        "id": "KdM0WLChllRA",
        "outputId": "e785f87f-f9bc-4f8d-dbc8-ab47a253d3c3"
      },
      "execution_count": null,
      "outputs": [
        {
          "output_type": "stream",
          "name": "stdout",
          "text": [
            "O\n",
            "l\n",
            "á\n",
            " \n",
            "1\n",
            "2\n",
            "3\n",
            " \n",
            "_\n"
          ]
        }
      ]
    },
    {
      "cell_type": "code",
      "source": [
        "num_atual = 0\n",
        "while(True):\n",
        "  if(num_atual == 5):\n",
        "    break\n",
        "  print(num_atual)\n",
        "  num_atual += 1\n",
        "\n",
        "print(\"Encerrou!\")"
      ],
      "metadata": {
        "colab": {
          "base_uri": "https://localhost:8080/"
        },
        "id": "k2GmJ4Y-cM6u",
        "outputId": "fbe17f6b-5040-4f73-8a47-49754c3f60df"
      },
      "execution_count": null,
      "outputs": [
        {
          "output_type": "stream",
          "name": "stdout",
          "text": [
            "0\n",
            "1\n",
            "2\n",
            "3\n",
            "4\n",
            "Encerrou\n"
          ]
        }
      ]
    },
    {
      "cell_type": "code",
      "source": [
        "num_atual = 0\n",
        "\n",
        "while (num_atual < 10):\n",
        "  num_atual += 1\n",
        "  if (num_atual == 7):\n",
        "    continue\n",
        "  print(num_atual)\n",
        "\n",
        "print(\"Encerrou!\")"
      ],
      "metadata": {
        "colab": {
          "base_uri": "https://localhost:8080/"
        },
        "id": "tzcgQ_Mbc-Ni",
        "outputId": "676298fc-f0c7-4af2-a3b0-b06ca0925462"
      },
      "execution_count": null,
      "outputs": [
        {
          "output_type": "stream",
          "name": "stdout",
          "text": [
            "1\n",
            "2\n",
            "3\n",
            "4\n",
            "5\n",
            "6\n",
            "8\n",
            "9\n",
            "10\n",
            "Encerrou!\n"
          ]
        }
      ]
    },
    {
      "cell_type": "markdown",
      "source": [
        "# **Atividades**\n",
        "\n",
        "1 - Crie um programa que receba 5 números e retorne a média aritmética entre esses números.\n",
        "\n",
        "2 - Crie um programa que receba 5 números, realize a soma destes números, mas caso um destes números seja negativo, não o considere na soma.\n",
        "\n",
        "3 - Crie um programa que receba um número arbitrário (definido pelo usuário) de números que serão lidos e retorne a soma de todos eles.\n",
        "\n",
        "4 - Percorra os números de 2 até 10 e diga se o número é par ou ímpar.\n",
        "\n",
        "5 - Crie um programa que receba como input uma string. Em seguida, percorra a string e diga quantos espaços em branco essa string tem."
      ],
      "metadata": {
        "id": "mDCxxjlDeIZU"
      }
    },
    {
      "cell_type": "code",
      "source": [
        "'''Crie um programa que receba 5 números e retorne a média aritmética entre esses números'''\n",
        "\n",
        "soma_atual = 0\n",
        "numeros_lidos = 0\n",
        "\n",
        "while (numeros_lidos < 5):\n",
        "  num_str = input(\"Digite um valor: \")\n",
        "  num_lido = float(num_str)\n",
        "  soma_atual += num_lido\n",
        "  numeros_lidos += 1\n",
        "\n",
        "media = soma_atual  / 5\n",
        "print(\"A média é %.2f \"% (media))"
      ],
      "metadata": {
        "colab": {
          "base_uri": "https://localhost:8080/"
        },
        "id": "IbYohhtNecdP",
        "outputId": "e4ebd0cc-f7d4-4e3c-9fcc-51fd86c2d65a"
      },
      "execution_count": null,
      "outputs": [
        {
          "output_type": "stream",
          "name": "stdout",
          "text": [
            "Digite um valor: 5\n",
            "Digite um valor: 6\n",
            "Digite um valor: 7\n",
            "Digite um valor: 8\n",
            "Digite um valor: 9\n",
            "A média é 7.00 \n"
          ]
        }
      ]
    },
    {
      "cell_type": "code",
      "source": [
        "'''Crie um programa que receba 5 números, realize a soma destes números,\n",
        "mas caso um destes números seja negativo, não o considere na soma.\n",
        "'''\n",
        "soma_atual = 0\n",
        "numeros_lidos = 0\n",
        "\n",
        "while (numeros_lidos < 5):\n",
        "  num_str = input(\"Digite um valor: \")\n",
        "  num_lido = float(num_str)\n",
        "  if num_lido >= 0:\n",
        "    soma_atual += num_lido\n",
        "  numeros_lidos += 1\n",
        "\n",
        "print(\"A soma é %.2f \"% (soma_atual))"
      ],
      "metadata": {
        "colab": {
          "base_uri": "https://localhost:8080/"
        },
        "id": "YWRXfF91hHO6",
        "outputId": "d222f746-71ce-4ad7-e32c-4fe23529494a"
      },
      "execution_count": null,
      "outputs": [
        {
          "output_type": "stream",
          "name": "stdout",
          "text": [
            "Digite um valor: 10\n",
            "Digite um valor: 10\n",
            "Digite um valor: 10\n",
            "Digite um valor: -10\n",
            "Digite um valor: 10\n",
            "A média é 40.00 \n"
          ]
        }
      ]
    },
    {
      "cell_type": "code",
      "source": [
        "'''Crie um programa que receba um número arbitrário (definido pelo usuário)\n",
        " de números que serão lidos e retorne a soma de todos eles.'''\n",
        "\n",
        "numeros_que_devem_ser_lidos = int(input(\"Digite quantos números serão lidos: \"))\n",
        "\n",
        "soma_atual = 0\n",
        "numeros_lidos = 0\n",
        "\n",
        "while (numeros_lidos < numeros_que_devem_ser_lidos):\n",
        "  num_str = input(\"Digite um valor: \")\n",
        "  num_lido = float(num_str)\n",
        "  soma_atual += num_lido\n",
        "  numeros_lidos += 1\n",
        "\n",
        "print(\"A total é %.2f \"% (soma_atual))\n"
      ],
      "metadata": {
        "colab": {
          "base_uri": "https://localhost:8080/"
        },
        "id": "1aZoInwqiSa4",
        "outputId": "c9290cb3-873c-4de1-8490-dc257b6efee4"
      },
      "execution_count": null,
      "outputs": [
        {
          "output_type": "stream",
          "name": "stdout",
          "text": [
            "Digite quantos números serão lidos: 3\n",
            "Digite um valor: 4\n",
            "Digite um valor: 5\n",
            "Digite um valor: 6\n",
            "A média é 15.00 \n"
          ]
        }
      ]
    },
    {
      "cell_type": "code",
      "source": [
        "'''Percorra os números de 2 até 10 e diga se o número é par ou ímpar.'''\n",
        "num_atual = 2\n",
        "while(num_atual <= 10):\n",
        "  resto = (num_atual % 2)\n",
        "  if resto == 0:\n",
        "    print(\"O número %d é par\" % (num_atual))\n",
        "  else:\n",
        "    print(\"O número %d é impar\" % (num_atual))\n",
        "  num_atual += 1"
      ],
      "metadata": {
        "colab": {
          "base_uri": "https://localhost:8080/"
        },
        "id": "kx0U6eX6pGiu",
        "outputId": "d20a5a6a-0abb-49e0-fdba-158c67d844b4"
      },
      "execution_count": null,
      "outputs": [
        {
          "output_type": "stream",
          "name": "stdout",
          "text": [
            "O número 2 é par\n",
            "O número 3 é impar\n",
            "O número 4 é par\n",
            "O número 5 é impar\n",
            "O número 6 é par\n",
            "O número 7 é impar\n",
            "O número 8 é par\n",
            "O número 9 é impar\n",
            "O número 10 é par\n"
          ]
        }
      ]
    },
    {
      "cell_type": "code",
      "source": [
        "'''Crie um programa que receba como input uma string. Em seguida, percorra\n",
        "a string e diga quantos espaços em branco essa string tem.'''\n",
        "\n",
        "\n",
        "texto = input(\"Digite um texto: \")\n",
        "indice = 0\n",
        "num_vazio = 0\n",
        "\n",
        "while(indice < len(texto)):\n",
        "  if texto[indice] == \" \":\n",
        "    num_vazio += 1\n",
        "  indice += 1\n",
        "\n",
        "print(\"O texto tem %d espaços em branco\" % (num_vazio))"
      ],
      "metadata": {
        "colab": {
          "base_uri": "https://localhost:8080/"
        },
        "id": "CpiKTLg-powy",
        "outputId": "24ffb973-69a0-4f03-afa7-039c06759e5c"
      },
      "execution_count": null,
      "outputs": [
        {
          "output_type": "stream",
          "name": "stdout",
          "text": [
            "Digite um texto: Luan Felipe\n",
            "O texto tem 1 espaços em branco\n"
          ]
        }
      ]
    },
    {
      "cell_type": "code",
      "source": [
        "for x in range (10):\n",
        "  print(x)"
      ],
      "metadata": {
        "colab": {
          "base_uri": "https://localhost:8080/"
        },
        "id": "ReFIOMv7iqqk",
        "outputId": "2b59469b-580e-4851-b535-403f35c53f66"
      },
      "execution_count": null,
      "outputs": [
        {
          "output_type": "stream",
          "name": "stdout",
          "text": [
            "0\n",
            "1\n",
            "2\n",
            "3\n",
            "4\n",
            "5\n",
            "6\n",
            "7\n",
            "8\n",
            "9\n"
          ]
        }
      ]
    },
    {
      "cell_type": "code",
      "source": [
        "for x in range(5,10):\n",
        "  print(x)"
      ],
      "metadata": {
        "colab": {
          "base_uri": "https://localhost:8080/",
          "height": 106
        },
        "id": "0MFw4kbVjOL0",
        "outputId": "52aeb04e-ad87-4f36-99d1-d7a70f13482c"
      },
      "execution_count": null,
      "outputs": [
        {
          "output_type": "error",
          "ename": "SyntaxError",
          "evalue": "expected ':' (ipython-input-3164001473.py, line 1)",
          "traceback": [
            "\u001b[0;36m  File \u001b[0;32m\"/tmp/ipython-input-3164001473.py\"\u001b[0;36m, line \u001b[0;32m1\u001b[0m\n\u001b[0;31m    for x in range(5,10)\u001b[0m\n\u001b[0m                        ^\u001b[0m\n\u001b[0;31mSyntaxError\u001b[0m\u001b[0;31m:\u001b[0m expected ':'\n"
          ]
        }
      ]
    },
    {
      "cell_type": "code",
      "source": [
        "for x in range(20,5,-5):\n",
        "  print(x)"
      ],
      "metadata": {
        "colab": {
          "base_uri": "https://localhost:8080/"
        },
        "id": "WiUh5quvjWcU",
        "outputId": "7703d00c-1783-45dc-d449-23b1f76c691d"
      },
      "execution_count": null,
      "outputs": [
        {
          "output_type": "stream",
          "name": "stdout",
          "text": [
            "20\n",
            "15\n",
            "10\n"
          ]
        }
      ]
    },
    {
      "cell_type": "code",
      "source": [
        "texto = \"123456789\"\n",
        "for x in range(0, len(texto)):\n",
        "  print(texto[x])"
      ],
      "metadata": {
        "colab": {
          "base_uri": "https://localhost:8080/"
        },
        "id": "ZxY4_Cx_ly5L",
        "outputId": "c636bbc4-2347-4013-ea30-cec854a01e20"
      },
      "execution_count": null,
      "outputs": [
        {
          "output_type": "stream",
          "name": "stdout",
          "text": [
            "1\n",
            "2\n",
            "3\n",
            "4\n",
            "5\n",
            "6\n",
            "7\n",
            "8\n",
            "9\n"
          ]
        }
      ]
    },
    {
      "cell_type": "code",
      "source": [
        "letra = input(\"Digite uma letra: \")\n",
        "\n",
        "if len(letra) != 1:\n",
        "    print(\"Precisa ter 1 dígito!\")\n",
        "else:\n",
        "    texto = input(\"Digite um texto: \")\n",
        "    for i in range(len(texto)):\n",
        "        if letra == texto[i]:\n",
        "            print(\"Encontrei a letra %s na posição %d\" % (letra, i))\n"
      ],
      "metadata": {
        "colab": {
          "base_uri": "https://localhost:8080/"
        },
        "id": "Bjn2lmT3mHwV",
        "outputId": "14660ee5-060f-4fb2-fa14-f1c06095062e"
      },
      "execution_count": null,
      "outputs": [
        {
          "output_type": "stream",
          "name": "stdout",
          "text": [
            "Digite uma letra: a\n",
            "Digite um texto: Luan\n",
            "Encontrei a letra a na posição 2\n"
          ]
        }
      ]
    },
    {
      "cell_type": "code",
      "source": [
        "texto = \"Olá, eu sou iterável\"\n",
        "for x in texto:\n",
        "  print(x)"
      ],
      "metadata": {
        "colab": {
          "base_uri": "https://localhost:8080/"
        },
        "id": "txHBFWLcn093",
        "outputId": "860b031a-b83d-4ec7-de47-05126229ed3c"
      },
      "execution_count": null,
      "outputs": [
        {
          "output_type": "stream",
          "name": "stdout",
          "text": [
            "O\n",
            "l\n",
            "á\n",
            ",\n",
            " \n",
            "e\n",
            "u\n",
            " \n",
            "s\n",
            "o\n",
            "u\n",
            " \n",
            "i\n",
            "t\n",
            "e\n",
            "r\n",
            "á\n",
            "v\n",
            "e\n",
            "l\n"
          ]
        }
      ]
    },
    {
      "cell_type": "code",
      "source": [
        "for x in range(0,3):\n",
        "  for y in range(0,5):\n",
        "    print(x,y)"
      ],
      "metadata": {
        "colab": {
          "base_uri": "https://localhost:8080/"
        },
        "id": "wbwiLfdzn_fr",
        "outputId": "93c4736d-763e-4804-afcc-c0a540e48845"
      },
      "execution_count": null,
      "outputs": [
        {
          "output_type": "stream",
          "name": "stdout",
          "text": [
            "0 0\n",
            "0 1\n",
            "0 2\n",
            "0 3\n",
            "0 4\n",
            "1 0\n",
            "1 1\n",
            "1 2\n",
            "1 3\n",
            "1 4\n",
            "2 0\n",
            "2 1\n",
            "2 2\n",
            "2 3\n",
            "2 4\n"
          ]
        }
      ]
    },
    {
      "cell_type": "code",
      "source": [
        "for x in range(1, 4):\n",
        "    print('---------------')\n",
        "    for y in range(1, 11):\n",
        "        print(\"%d X %d = %d\" % (x, y, x * y))\n"
      ],
      "metadata": {
        "colab": {
          "base_uri": "https://localhost:8080/"
        },
        "id": "AtggaZVkoYri",
        "outputId": "0a338cc0-c5c5-4a3f-b925-4f94bb0143c4"
      },
      "execution_count": null,
      "outputs": [
        {
          "output_type": "stream",
          "name": "stdout",
          "text": [
            "---------------\n",
            "1 X 1 = 1\n",
            "1 X 2 = 2\n",
            "1 X 3 = 3\n",
            "1 X 4 = 4\n",
            "1 X 5 = 5\n",
            "1 X 6 = 6\n",
            "1 X 7 = 7\n",
            "1 X 8 = 8\n",
            "1 X 9 = 9\n",
            "1 X 10 = 10\n",
            "---------------\n",
            "2 X 1 = 2\n",
            "2 X 2 = 4\n",
            "2 X 3 = 6\n",
            "2 X 4 = 8\n",
            "2 X 5 = 10\n",
            "2 X 6 = 12\n",
            "2 X 7 = 14\n",
            "2 X 8 = 16\n",
            "2 X 9 = 18\n",
            "2 X 10 = 20\n",
            "---------------\n",
            "3 X 1 = 3\n",
            "3 X 2 = 6\n",
            "3 X 3 = 9\n",
            "3 X 4 = 12\n",
            "3 X 5 = 15\n",
            "3 X 6 = 18\n",
            "3 X 7 = 21\n",
            "3 X 8 = 24\n",
            "3 X 9 = 27\n",
            "3 X 10 = 30\n"
          ]
        }
      ]
    },
    {
      "cell_type": "markdown",
      "source": [
        "# **Atividades**\n",
        "\n",
        "1 - Crie um programa que receba uma string por input e conte quantos caracteres ela têm, não leve em conta caracteres de espaço. Você não deve usar o len().\n",
        "\n",
        "2 - Crie um programa que faça o cálculo do fatorial de um número. O fatorial a ser calculado deve ser recebido por input.\n",
        "\n",
        "3 - Crie um programa que leia uma quantidade arbitrária de textos e concatene eles numa string única.\n",
        "\n",
        "4 - Cria um programa que printe a tabuada da divisão de um número lido por input.\n",
        "\n",
        "5 (DESAFIO) - Crie um programa que percorra os números de 3 até 30 e diga o número é primo ou não."
      ],
      "metadata": {
        "id": "IKNavqMxpc8M"
      }
    },
    {
      "cell_type": "code",
      "source": [
        "'''Crie um programa que receba uma string por input e conte quantos caracteres\n",
        " ela têm, não leve em conta caracteres de espaço. Você não deve usar o len().'''\n",
        "texto = input(\"Digite um texto:\")\n",
        "num_caracteres = 0\n",
        "\n",
        "for letra in texto:\n",
        "  if(letra != \" \"):\n",
        "    num_caracteres += 1\n",
        "\n",
        "print(\"O texto tem %d caracteres\" % (num_caracteres))"
      ],
      "metadata": {
        "colab": {
          "base_uri": "https://localhost:8080/"
        },
        "id": "cb8S2qGidmnY",
        "outputId": "6506f267-e228-49b6-8245-33db65681d5d"
      },
      "execution_count": null,
      "outputs": [
        {
          "output_type": "stream",
          "name": "stdout",
          "text": [
            "Digite um texto:Python e bom\n",
            "O texto tem 10 caracteres\n"
          ]
        }
      ]
    },
    {
      "cell_type": "code",
      "source": [
        "''' Crie um programa que faça o cálculo do fatorial de um número. O fatorial a\n",
        "ser calculado deve ser recebido por input'''\n",
        "\n",
        "fatorial_str = input(\"Digital o fatorial desejado: \")\n",
        "fatorial_numero = int(fatorial_str)\n",
        "resultado = 1\n",
        "for i in range(1, fatorial_numero + 1):\n",
        "  resultado *= i\n",
        "print(\"O fatorial de %d é %d \" % (fatorial_numero, resultado))"
      ],
      "metadata": {
        "colab": {
          "base_uri": "https://localhost:8080/"
        },
        "id": "CPNMN4TsefjZ",
        "outputId": "22ecf5b0-92e9-438d-889e-4d962f676883"
      },
      "execution_count": null,
      "outputs": [
        {
          "output_type": "stream",
          "name": "stdout",
          "text": [
            "Digital o fatorial desejado: 5\n",
            "O fatorial de 5 é 120 \n"
          ]
        }
      ]
    },
    {
      "cell_type": "code",
      "source": [
        "''' Crie um programa que leia uma quantidade arbitrária de textos e concatene eles numa string única.'''"
      ],
      "metadata": {
        "id": "dlpnshDki_Uh"
      },
      "execution_count": null,
      "outputs": []
    },
    {
      "cell_type": "code",
      "source": [
        "numeros_de_leituras = int(input(\"Digite o numero de textos que serão lidos: \"))\n",
        "texto_total = \" \"\n",
        "for i in range(numeros_de_leituras):\n",
        "  texto_total += input(\"Digite um texto: \")\n",
        "\n",
        "print(\"Texto completo: \", texto_total)"
      ],
      "metadata": {
        "id": "Bcyxo8ABjDlB"
      },
      "execution_count": null,
      "outputs": []
    },
    {
      "cell_type": "code",
      "source": [
        "'''Cria um programa que printe a tabuada da divisão de um número lido por input.'''\n",
        "numero = int(input(\"Digite a tabuada de divisão desejada: \"))\n",
        "for num in range(1,11):\n",
        "  print(\"%d / %d =%f \" % (num, numero, num / numero))"
      ],
      "metadata": {
        "colab": {
          "base_uri": "https://localhost:8080/"
        },
        "id": "aDeAHypWjswb",
        "outputId": "4f8978bc-cfa3-48a6-aac4-745189764f89"
      },
      "execution_count": null,
      "outputs": [
        {
          "output_type": "stream",
          "name": "stdout",
          "text": [
            "Digite a tabuada de divisão desejada: 4\n",
            "1 / 4 =0.250000\n",
            "2 / 4 =0.500000\n",
            "3 / 4 =0.750000\n",
            "4 / 4 =1.000000\n",
            "5 / 4 =1.250000\n",
            "6 / 4 =1.500000\n",
            "7 / 4 =1.750000\n",
            "8 / 4 =2.000000\n",
            "9 / 4 =2.250000\n",
            "10 / 4 =2.500000\n"
          ]
        }
      ]
    },
    {
      "cell_type": "code",
      "source": [
        "''' Crie um programa que percorra os números de 3 até 30 e diga o número é primo ou não.'''\n",
        "for num in range(3,31):\n",
        "  e_primo  = True\n",
        "\n",
        "  for num_teste in range(2, numero)\n",
        "    if(numero % num_teste == 0):\n",
        "      e_primo = False\n",
        "      break\n",
        "    if(e_primo):\n",
        "      print(\"O numero %d e primo\" % (numero))\n",
        "    else:\n",
        "      print(\"O numero %d não é primo\" % (numero))\n"
      ],
      "metadata": {
        "id": "RHAB2C1CkDwd"
      },
      "execution_count": null,
      "outputs": []
    }
  ]
}