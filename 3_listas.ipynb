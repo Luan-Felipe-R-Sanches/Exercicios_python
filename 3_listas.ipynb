{
  "nbformat": 4,
  "nbformat_minor": 0,
  "metadata": {
    "colab": {
      "provenance": [],
      "authorship_tag": "ABX9TyNRHmNq0KNmxdAQcS5aOHO4",
      "include_colab_link": true
    },
    "kernelspec": {
      "name": "python3",
      "display_name": "Python 3"
    },
    "language_info": {
      "name": "python"
    }
  },
  "cells": [
    {
      "cell_type": "markdown",
      "metadata": {
        "id": "view-in-github",
        "colab_type": "text"
      },
      "source": [
        "<a href=\"https://colab.research.google.com/github/Luan-Felipe-R-Sanches/Exercicios_python/blob/main/3_listas.ipynb\" target=\"_parent\"><img src=\"https://colab.research.google.com/assets/colab-badge.svg\" alt=\"Open In Colab\"/></a>"
      ]
    },
    {
      "cell_type": "markdown",
      "source": [
        "# **LIST**"
      ],
      "metadata": {
        "id": "mgSWIFOk_p8m"
      }
    },
    {
      "cell_type": "code",
      "source": [
        "array = []\n",
        "array = list()\n",
        "\n",
        "array_numeros = [1,2,3]\n",
        "array_floats = [56.3, -2.2, 0.5]\n",
        "array_srt = [\"A\",\"B\",\"C\"]\n",
        "array_misto = [2,22.3, \"ABC\"]\n",
        "\n"
      ],
      "metadata": {
        "id": "OoBZRBPQ_zDY"
      },
      "execution_count": null,
      "outputs": []
    },
    {
      "cell_type": "code",
      "source": [
        "array = list([1,2,3])\n",
        "print(array)\n",
        "primeiro_elemento = array[0]\n",
        "print(primeiro_elemento)\n",
        "array[0] = 20\n",
        "primeiro_elemento = array[0]\n",
        "print(primeiro_elemento)"
      ],
      "metadata": {
        "id": "CME9H3buA3Id",
        "outputId": "805c8357-064d-48d3-f210-3ce62b2e31b6",
        "colab": {
          "base_uri": "https://localhost:8080/"
        }
      },
      "execution_count": null,
      "outputs": [
        {
          "output_type": "stream",
          "name": "stdout",
          "text": [
            "[1, 2, 3]\n",
            "1\n",
            "20\n"
          ]
        }
      ]
    },
    {
      "cell_type": "code",
      "source": [
        "array = [1, \"texto\", 3]\n",
        "print(array[1:3])"
      ],
      "metadata": {
        "id": "PSE9aRiNBu_V"
      },
      "execution_count": null,
      "outputs": []
    },
    {
      "cell_type": "code",
      "source": [
        "array = [10,2,3]\n",
        "print(array)\n",
        "array.append(2)\n",
        "print(array)\n",
        "array.insert(2,\"4\")\n",
        "print(array)"
      ],
      "metadata": {
        "id": "qmeseojLDKTl",
        "outputId": "15d4ae97-b812-4184-ec30-a90786ecc57b",
        "colab": {
          "base_uri": "https://localhost:8080/"
        }
      },
      "execution_count": null,
      "outputs": [
        {
          "output_type": "stream",
          "name": "stdout",
          "text": [
            "[10, 2, 3]\n",
            "[10, 2, 3, 2]\n",
            "[10, 2, '4', 3, 2]\n"
          ]
        }
      ]
    },
    {
      "cell_type": "code",
      "source": [
        "array = [10,2,3,20,\"3\"]\n",
        "array.remove(10)\n",
        "print(array)\n",
        "array.pop(2)\n",
        "print(array)"
      ],
      "metadata": {
        "id": "iLcMAz0ODk88",
        "outputId": "428b9a56-0008-4653-de6e-668bc1de4a52",
        "colab": {
          "base_uri": "https://localhost:8080/"
        }
      },
      "execution_count": null,
      "outputs": [
        {
          "output_type": "stream",
          "name": "stdout",
          "text": [
            "[2, 3, 20, '3']\n",
            "[2, 3, '3']\n"
          ]
        }
      ]
    },
    {
      "cell_type": "code",
      "source": [
        "print(len(array))"
      ],
      "metadata": {
        "id": "AnAZmOKsEcu-",
        "outputId": "90db6862-6bf4-4930-ac38-48bfeaa305da",
        "colab": {
          "base_uri": "https://localhost:8080/"
        }
      },
      "execution_count": null,
      "outputs": [
        {
          "output_type": "stream",
          "name": "stdout",
          "text": [
            "3\n"
          ]
        }
      ]
    },
    {
      "cell_type": "code",
      "source": [
        "array.clear\n",
        "print(array)"
      ],
      "metadata": {
        "id": "nctwD7aEEf99"
      },
      "execution_count": null,
      "outputs": []
    },
    {
      "cell_type": "code",
      "source": [
        "array = [1, 'teste', 1.3, True]\n",
        "print(1 in array)\n",
        "print(False not in array)"
      ],
      "metadata": {
        "id": "u9XeGdzFEq0z",
        "outputId": "c7f5c8f5-15d5-4111-fb67-c569cd7ada2f",
        "colab": {
          "base_uri": "https://localhost:8080/"
        }
      },
      "execution_count": null,
      "outputs": [
        {
          "output_type": "stream",
          "name": "stdout",
          "text": [
            "True\n",
            "True\n"
          ]
        }
      ]
    },
    {
      "cell_type": "code",
      "source": [
        "lista = [5,6,7,2,3,4,7]\n",
        "teste = lista.count(7)\n",
        "print(teste)"
      ],
      "metadata": {
        "id": "UMnEnnGiE340"
      },
      "execution_count": null,
      "outputs": []
    },
    {
      "cell_type": "code",
      "source": [
        "lista = [5,6,7,2,3,4,7]\n",
        "pos = lista.index(7)\n",
        "print(pos)"
      ],
      "metadata": {
        "id": "2T06EPocFJzG",
        "outputId": "9026b71a-ea01-415d-846f-2e9bb4d1316d",
        "colab": {
          "base_uri": "https://localhost:8080/"
        }
      },
      "execution_count": null,
      "outputs": [
        {
          "output_type": "stream",
          "name": "stdout",
          "text": [
            "2\n"
          ]
        }
      ]
    },
    {
      "cell_type": "code",
      "source": [
        "array1 = [1,2,3]\n",
        "array2 = [3,4,5]\n",
        "soma = array1 + array2\n",
        "print(soma)"
      ],
      "metadata": {
        "id": "BCJH8V5gNq4w",
        "outputId": "cb6b0132-0e41-4405-bfdc-37561fc4643f",
        "colab": {
          "base_uri": "https://localhost:8080/"
        }
      },
      "execution_count": null,
      "outputs": [
        {
          "output_type": "stream",
          "name": "stdout",
          "text": [
            "[1, 2, 3, 3, 4, 5]\n"
          ]
        }
      ]
    },
    {
      "cell_type": "code",
      "source": [
        "numeros = [\"um\", \"dois\", \"tres\"]\n",
        "x,y,z = numeros\n",
        "print(x)\n",
        "print(y)\n",
        "print(z)"
      ],
      "metadata": {
        "id": "Aw9wCLzKN-t9"
      },
      "execution_count": null,
      "outputs": []
    },
    {
      "cell_type": "code",
      "source": [
        "cores = [\"vermelho\", \"azul\", \"verde\"]\n",
        "for i in range(0,len(cores)):\n",
        "  print(cores[i])"
      ],
      "metadata": {
        "id": "tA3sDPajPKT3",
        "outputId": "41353542-eee3-4250-ec80-400893f901b6",
        "colab": {
          "base_uri": "https://localhost:8080/"
        }
      },
      "execution_count": null,
      "outputs": [
        {
          "output_type": "stream",
          "name": "stdout",
          "text": [
            "vermelho\n",
            "azul\n",
            "verde\n"
          ]
        }
      ]
    },
    {
      "cell_type": "code",
      "source": [
        "cores = [\"azul\", \"preto\",\"amarelo\"]\n",
        "indice = 0\n",
        "while indice < len(cores):\n",
        "  print(cores[indice])\n",
        "  indice += 1"
      ],
      "metadata": {
        "id": "0ER9-POPPnmZ",
        "outputId": "0b1ad1fc-0e5d-48a2-f91f-cbfac6d19abb",
        "colab": {
          "base_uri": "https://localhost:8080/"
        }
      },
      "execution_count": null,
      "outputs": [
        {
          "output_type": "stream",
          "name": "stdout",
          "text": [
            "azul\n",
            "preto\n",
            "amarelo\n"
          ]
        }
      ]
    },
    {
      "cell_type": "code",
      "source": [
        "lista = [[1,2,3], [4,5,6]]\n",
        "primeira_lista = lista[0]\n",
        "segunda_lista = lista[1]\n",
        "print(primeira_lista)\n",
        "print(segunda_lista)\n",
        "primeiro_elemento_primeira_lista = lista[1][1]\n",
        "print(primeiro_elemento_primeira_lista)"
      ],
      "metadata": {
        "id": "jHJ88QjbP6u1",
        "outputId": "8931d0e4-ae64-4a01-8917-94499e32ef0e",
        "colab": {
          "base_uri": "https://localhost:8080/"
        }
      },
      "execution_count": null,
      "outputs": [
        {
          "output_type": "stream",
          "name": "stdout",
          "text": [
            "[1, 2, 3]\n",
            "[4, 5, 6]\n",
            "5\n"
          ]
        }
      ]
    },
    {
      "cell_type": "markdown",
      "source": [
        "# **SET**"
      ],
      "metadata": {
        "id": "RnzQd3Bofnik"
      }
    },
    {
      "cell_type": "code",
      "source": [
        "lista_set = {}\n",
        "lista2_set = {1,2,3}\n",
        "lista3_set = set({1,2,3})\n",
        "print(lista_set)\n",
        "print(lista2_set)\n",
        "print(lista3_set)"
      ],
      "metadata": {
        "id": "xLRqeBrTfq25",
        "outputId": "7804afd6-15a1-4249-e865-3cfbaceec2c1",
        "colab": {
          "base_uri": "https://localhost:8080/"
        }
      },
      "execution_count": null,
      "outputs": [
        {
          "output_type": "stream",
          "name": "stdout",
          "text": [
            "{}\n",
            "{1, 2, 3}\n",
            "{1, 2, 3}\n"
          ]
        }
      ]
    },
    {
      "cell_type": "code",
      "source": [
        "lista2_set = {1,2,3}\n",
        "lista2_set[0]"
      ],
      "metadata": {
        "id": "C5YWtwhUgdOr",
        "outputId": "a53aa59a-257c-47ee-fcb2-57513b5b7ffc",
        "colab": {
          "base_uri": "https://localhost:8080/",
          "height": 159
        }
      },
      "execution_count": null,
      "outputs": [
        {
          "output_type": "error",
          "ename": "TypeError",
          "evalue": "'set' object is not subscriptable",
          "traceback": [
            "\u001b[0;31m---------------------------------------------------------------------------\u001b[0m",
            "\u001b[0;31mTypeError\u001b[0m                                 Traceback (most recent call last)",
            "\u001b[0;32m/tmp/ipython-input-2681439986.py\u001b[0m in \u001b[0;36m<cell line: 0>\u001b[0;34m()\u001b[0m\n\u001b[1;32m      1\u001b[0m \u001b[0mlista2_set\u001b[0m \u001b[0;34m=\u001b[0m \u001b[0;34m{\u001b[0m\u001b[0;36m1\u001b[0m\u001b[0;34m,\u001b[0m\u001b[0;36m2\u001b[0m\u001b[0;34m,\u001b[0m\u001b[0;36m3\u001b[0m\u001b[0;34m}\u001b[0m\u001b[0;34m\u001b[0m\u001b[0;34m\u001b[0m\u001b[0m\n\u001b[0;32m----> 2\u001b[0;31m \u001b[0mlista2_set\u001b[0m\u001b[0;34m[\u001b[0m\u001b[0;36m0\u001b[0m\u001b[0;34m]\u001b[0m\u001b[0;34m\u001b[0m\u001b[0;34m\u001b[0m\u001b[0m\n\u001b[0m",
            "\u001b[0;31mTypeError\u001b[0m: 'set' object is not subscriptable"
          ]
        }
      ]
    },
    {
      "cell_type": "code",
      "source": [
        "lista2_set = {1,2,3}\n",
        "lista2_set[0] = 2"
      ],
      "metadata": {
        "id": "dkFUi4ILgn07",
        "outputId": "3a250781-ebdf-4bdb-de90-88435e36b872",
        "colab": {
          "base_uri": "https://localhost:8080/",
          "height": 159
        }
      },
      "execution_count": null,
      "outputs": [
        {
          "output_type": "error",
          "ename": "TypeError",
          "evalue": "'set' object does not support item assignment",
          "traceback": [
            "\u001b[0;31m---------------------------------------------------------------------------\u001b[0m",
            "\u001b[0;31mTypeError\u001b[0m                                 Traceback (most recent call last)",
            "\u001b[0;32m/tmp/ipython-input-2919749620.py\u001b[0m in \u001b[0;36m<cell line: 0>\u001b[0;34m()\u001b[0m\n\u001b[1;32m      1\u001b[0m \u001b[0mlista2_set\u001b[0m \u001b[0;34m=\u001b[0m \u001b[0;34m{\u001b[0m\u001b[0;36m1\u001b[0m\u001b[0;34m,\u001b[0m\u001b[0;36m2\u001b[0m\u001b[0;34m,\u001b[0m\u001b[0;36m3\u001b[0m\u001b[0;34m}\u001b[0m\u001b[0;34m\u001b[0m\u001b[0;34m\u001b[0m\u001b[0m\n\u001b[0;32m----> 2\u001b[0;31m \u001b[0mlista2_set\u001b[0m\u001b[0;34m[\u001b[0m\u001b[0;36m0\u001b[0m\u001b[0;34m]\u001b[0m \u001b[0;34m=\u001b[0m \u001b[0;36m2\u001b[0m\u001b[0;34m\u001b[0m\u001b[0;34m\u001b[0m\u001b[0m\n\u001b[0m",
            "\u001b[0;31mTypeError\u001b[0m: 'set' object does not support item assignment"
          ]
        }
      ]
    },
    {
      "cell_type": "code",
      "source": [
        "list_set = {1,2,3,4}\n",
        "print(5 in list_set)"
      ],
      "metadata": {
        "id": "HZNtFABPiLWJ",
        "outputId": "b57f56b1-7697-4d22-9608-864b244bddaa",
        "colab": {
          "base_uri": "https://localhost:8080/"
        }
      },
      "execution_count": null,
      "outputs": [
        {
          "output_type": "stream",
          "name": "stdout",
          "text": [
            "False\n"
          ]
        }
      ]
    },
    {
      "cell_type": "code",
      "source": [
        "list_set = {1,2,3,'4', True, 6.1}\n",
        "for item in list_set:\n",
        "  print(item)"
      ],
      "metadata": {
        "id": "r-4WVT_8iT1t",
        "outputId": "df0b87c4-c3d9-4c2d-dd51-7333a04850dc",
        "colab": {
          "base_uri": "https://localhost:8080/"
        }
      },
      "execution_count": null,
      "outputs": [
        {
          "output_type": "stream",
          "name": "stdout",
          "text": [
            "1\n",
            "2\n",
            "3\n",
            "4\n",
            "6.1\n"
          ]
        }
      ]
    },
    {
      "cell_type": "code",
      "source": [
        "set1 = {1,2,3}\n",
        "set2 = {1,2,3,4}\n",
        "set_unido = set1.union(set2)\n",
        "print(set_unido)"
      ],
      "metadata": {
        "id": "B1GA3_fYjLMv",
        "outputId": "dfddfbc6-9174-4b4f-c5fa-de1cf96a1cc9",
        "colab": {
          "base_uri": "https://localhost:8080/"
        }
      },
      "execution_count": null,
      "outputs": [
        {
          "output_type": "stream",
          "name": "stdout",
          "text": [
            "{1, 2, 3, 4}\n"
          ]
        }
      ]
    },
    {
      "cell_type": "code",
      "source": [
        "set1 = {1,2,3}\n",
        "set2 = {1,2,3,4}\n",
        "set_inser = set1.intersection(set2)\n",
        "print(set_inser)"
      ],
      "metadata": {
        "id": "ZoG1uMV9jc-b",
        "outputId": "57e06a24-88a5-4336-a5e1-09f3dc664dfe",
        "colab": {
          "base_uri": "https://localhost:8080/"
        }
      },
      "execution_count": null,
      "outputs": [
        {
          "output_type": "stream",
          "name": "stdout",
          "text": [
            "{1, 2, 3}\n"
          ]
        }
      ]
    },
    {
      "cell_type": "code",
      "source": [
        "set1 = {1,2,3}\n",
        "set2 = {1,2,3,4}\n",
        "set_dif = set2.difference(set1)\n",
        "print(set_dif)"
      ],
      "metadata": {
        "id": "vtzjzBRBjtVp",
        "outputId": "35dd78c1-6794-4d72-f0b7-ab74904832e0",
        "colab": {
          "base_uri": "https://localhost:8080/"
        }
      },
      "execution_count": null,
      "outputs": [
        {
          "output_type": "stream",
          "name": "stdout",
          "text": [
            "{4}\n"
          ]
        }
      ]
    },
    {
      "cell_type": "markdown",
      "source": [
        "# **TUPLE**"
      ],
      "metadata": {
        "id": "ZW-J90mwPy_9"
      }
    },
    {
      "cell_type": "code",
      "source": [
        "doces = ('Chocolate', 'Bom bom' , 'paçoca')\n",
        "print(doces)\n"
      ],
      "metadata": {
        "id": "Y71sK114P1ha",
        "outputId": "e4e72183-03a7-4eb3-d6f4-11c70f7d281e",
        "colab": {
          "base_uri": "https://localhost:8080/"
        }
      },
      "execution_count": 1,
      "outputs": [
        {
          "output_type": "stream",
          "name": "stdout",
          "text": [
            "('Chocolate', 'Bom bom', 'paçoca')\n"
          ]
        }
      ]
    },
    {
      "cell_type": "code",
      "source": [
        "nums = (1,2,3,4,5,6,7,8)\n",
        "sub_tuplas = nums[2:4]\n",
        "print(sub_tuplas)"
      ],
      "metadata": {
        "id": "ohwOVahaQIQG",
        "outputId": "e7167380-2da0-4615-f28f-e70b7489efa4",
        "colab": {
          "base_uri": "https://localhost:8080/"
        }
      },
      "execution_count": 2,
      "outputs": [
        {
          "output_type": "stream",
          "name": "stdout",
          "text": [
            "(3, 4)\n"
          ]
        }
      ]
    },
    {
      "cell_type": "code",
      "source": [
        "nums = (1,2,3,4,5,6,7,8)\n",
        "print(9 in nums)"
      ],
      "metadata": {
        "id": "8NkXpOcKQUbB",
        "outputId": "34238b8e-5108-4df9-e831-44397343f376",
        "colab": {
          "base_uri": "https://localhost:8080/"
        }
      },
      "execution_count": 3,
      "outputs": [
        {
          "output_type": "stream",
          "name": "stdout",
          "text": [
            "False\n"
          ]
        }
      ]
    },
    {
      "cell_type": "code",
      "source": [
        "tupla = tuple((10,20,40))\n",
        "tupla[0] = 20"
      ],
      "metadata": {
        "id": "4hlOnwC6QcQq",
        "outputId": "4b1ee368-fcd7-4e60-f0c5-7444d053d95b",
        "colab": {
          "base_uri": "https://localhost:8080/",
          "height": 159
        }
      },
      "execution_count": 4,
      "outputs": [
        {
          "output_type": "error",
          "ename": "TypeError",
          "evalue": "'tuple' object does not support item assignment",
          "traceback": [
            "\u001b[0;31m---------------------------------------------------------------------------\u001b[0m",
            "\u001b[0;31mTypeError\u001b[0m                                 Traceback (most recent call last)",
            "\u001b[0;32m/tmp/ipython-input-2055654278.py\u001b[0m in \u001b[0;36m<cell line: 0>\u001b[0;34m()\u001b[0m\n\u001b[1;32m      1\u001b[0m \u001b[0mtupla\u001b[0m \u001b[0;34m=\u001b[0m \u001b[0mtuple\u001b[0m\u001b[0;34m(\u001b[0m\u001b[0;34m(\u001b[0m\u001b[0;36m10\u001b[0m\u001b[0;34m,\u001b[0m\u001b[0;36m20\u001b[0m\u001b[0;34m,\u001b[0m\u001b[0;36m40\u001b[0m\u001b[0;34m)\u001b[0m\u001b[0;34m)\u001b[0m\u001b[0;34m\u001b[0m\u001b[0;34m\u001b[0m\u001b[0m\n\u001b[0;32m----> 2\u001b[0;31m \u001b[0mtupla\u001b[0m\u001b[0;34m[\u001b[0m\u001b[0;36m0\u001b[0m\u001b[0;34m]\u001b[0m \u001b[0;34m=\u001b[0m \u001b[0;36m20\u001b[0m\u001b[0;34m\u001b[0m\u001b[0;34m\u001b[0m\u001b[0m\n\u001b[0m",
            "\u001b[0;31mTypeError\u001b[0m: 'tuple' object does not support item assignment"
          ]
        }
      ]
    },
    {
      "cell_type": "code",
      "source": [
        "tupla = (6,7,8,9,10,6,6)\n",
        "print(tupla.count(6))"
      ],
      "metadata": {
        "id": "9CPeoEmAQl-l",
        "outputId": "8a1fad57-4948-473a-e155-5035a0239146",
        "colab": {
          "base_uri": "https://localhost:8080/"
        }
      },
      "execution_count": 5,
      "outputs": [
        {
          "output_type": "stream",
          "name": "stdout",
          "text": [
            "3\n"
          ]
        }
      ]
    },
    {
      "cell_type": "code",
      "source": [
        "tupla = (5,'3',True, 7234)\n",
        "pos = tupla.index('3')\n",
        "print(pos)\n"
      ],
      "metadata": {
        "id": "ADeE-HxJQtRl",
        "outputId": "cdbb5530-1052-4b31-8ddd-9a7b6d37b0f5",
        "colab": {
          "base_uri": "https://localhost:8080/"
        }
      },
      "execution_count": 6,
      "outputs": [
        {
          "output_type": "stream",
          "name": "stdout",
          "text": [
            "1\n"
          ]
        }
      ]
    },
    {
      "cell_type": "code",
      "source": [
        "tupla = (5,'3',True, 7234)\n",
        "for x in tupla:\n",
        "  print(x)"
      ],
      "metadata": {
        "id": "fCeMAvtjQ9Jn",
        "outputId": "ea636edd-34d5-4665-b956-dd63e994d880",
        "colab": {
          "base_uri": "https://localhost:8080/"
        }
      },
      "execution_count": 7,
      "outputs": [
        {
          "output_type": "stream",
          "name": "stdout",
          "text": [
            "5\n",
            "3\n",
            "True\n",
            "7234\n"
          ]
        }
      ]
    },
    {
      "cell_type": "code",
      "source": [
        "tupla = (5,'3',True, 7234)\n",
        "for i in range (0, len (tupla)):\n",
        "  print(tupla[i])\n"
      ],
      "metadata": {
        "id": "8VWbuT58RDAY",
        "outputId": "ef5e7ec9-a99f-4fe9-8682-584b607cfee0",
        "colab": {
          "base_uri": "https://localhost:8080/"
        }
      },
      "execution_count": 10,
      "outputs": [
        {
          "output_type": "stream",
          "name": "stdout",
          "text": [
            "5\n",
            "3\n",
            "True\n",
            "7234\n"
          ]
        }
      ]
    },
    {
      "cell_type": "code",
      "source": [
        "tupla = (5,'3',True, 7234)\n",
        "indice = 0\n",
        "while(indice < len(tupla)):\n",
        "  print(tupla[indice])\n",
        "  indice += 1"
      ],
      "metadata": {
        "id": "wzhFD3QyRVaK",
        "outputId": "0a6b1d61-6117-4e2c-cfcc-c673a6c8521a",
        "colab": {
          "base_uri": "https://localhost:8080/"
        }
      },
      "execution_count": 11,
      "outputs": [
        {
          "output_type": "stream",
          "name": "stdout",
          "text": [
            "5\n",
            "3\n",
            "True\n",
            "7234\n"
          ]
        }
      ]
    },
    {
      "cell_type": "code",
      "source": [
        "numeros_set = (1,2,3)\n",
        "numeros_lista = list(numeros_set)\n",
        "numeros_lista[0] = 12\n",
        "numeros_lista.append(\"Fim\")\n",
        "numeros_set = tuple(numeros_lista)\n",
        "print(numeros_set)"
      ],
      "metadata": {
        "id": "vEPLUeq4SBi2",
        "outputId": "1d9b4a23-3135-43c0-94d2-ee5283cd88f6",
        "colab": {
          "base_uri": "https://localhost:8080/"
        }
      },
      "execution_count": 12,
      "outputs": [
        {
          "output_type": "stream",
          "name": "stdout",
          "text": [
            "(12, 2, 3, 'Fim')\n"
          ]
        }
      ]
    }
  ]
}